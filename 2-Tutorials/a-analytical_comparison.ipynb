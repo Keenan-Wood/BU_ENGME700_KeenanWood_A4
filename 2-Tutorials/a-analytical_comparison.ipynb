{
 "cells": [
  {
   "cell_type": "markdown",
   "metadata": {},
   "source": [
    "# Finite Element Tutorial - Validation with Analytical Solution\n",
    "\n",
    "This tutorial demonstrates the validation of fenicsX simulation results with analytical results for a simple system. It is a slight modification from the fenicsX example found at https://github.com/Lejeune-Lab-Graduate-Course-Materials/fenicsX/blob/main/automation_example/script.py.\n",
    "\n",
    "Consider a beam with length L, modulus E, and second moment of area I. Let it be fixed at both ends, and apply a uniform applied load q.\n",
    "\n",
    "<img src=\"a-beam_diagram.png\" alt=\"Beam Diagram\" width=\"500\"/>\n",
    "\n",
    "The analytical solution for the deflection in the middle of the beam is then given by\n",
    "\n",
    "$\\delta_{max} = \\frac{q x^2}{24 E I} \\left(L - x^2\\right)$\n",
    "\n",
    "(Image and formula from https://structx.com/Beam_Formulas_015.html, retrieved 4/25)\n",
    "\n",
    "## Dependency Importing\n",
    "\n",
    "\n",
    "\n"
   ]
  },
  {
   "cell_type": "code",
   "execution_count": 26,
   "metadata": {},
   "outputs": [],
   "source": [
    "from dolfinx import default_scalar_type, fem, log, mesh, plot\n",
    "from dolfinx.io import gmshio\n",
    "from dolfinx.nls.petsc import NewtonSolver\n",
    "from dolfinx.fem.petsc import NonlinearProblem\n",
    "from mpi4py import MPI\n",
    "import numpy as np\n",
    "import pyvista\n",
    "import ufl\n",
    "import fenicsX.automation_example.utils as utils"
   ]
  },
  {
   "cell_type": "markdown",
   "metadata": {},
   "source": [
    "## Geometry and Mesh Setup\n",
    "\n",
    "We model only half the beam, for computational efficiency, leaving the end representing the middle free to move vertically (but fixed horizontally). A fine mesh with matching length scales in the x and y directions should provide accurate results."
   ]
  },
  {
   "cell_type": "code",
   "execution_count": 38,
   "metadata": {},
   "outputs": [
    {
     "ename": "KeyError",
     "evalue": "'crossed'",
     "output_type": "error",
     "traceback": [
      "\u001b[31m---------------------------------------------------------------------------\u001b[39m",
      "\u001b[31mKeyError\u001b[39m                                  Traceback (most recent call last)",
      "\u001b[36mCell\u001b[39m\u001b[36m \u001b[39m\u001b[32mIn[38]\u001b[39m\u001b[32m, line 15\u001b[39m\n\u001b[32m     13\u001b[39m Nx = \u001b[32m100\u001b[39m\n\u001b[32m     14\u001b[39m Ny = \u001b[32m2\u001b[39m\n\u001b[32m---> \u001b[39m\u001b[32m15\u001b[39m mesh_obj = \u001b[43mmesh\u001b[49m\u001b[43m.\u001b[49m\u001b[43mcreate_rectangle\u001b[49m\u001b[43m(\u001b[49m\u001b[43mnp\u001b[49m\u001b[43m.\u001b[49m\u001b[43marray\u001b[49m\u001b[43m(\u001b[49m\u001b[43m[\u001b[49m\u001b[43m[\u001b[49m\u001b[32;43m0\u001b[39;49m\u001b[43m,\u001b[49m\u001b[43m \u001b[49m\u001b[32;43m0\u001b[39;49m\u001b[43m]\u001b[49m\u001b[43m,\u001b[49m\u001b[43m \u001b[49m\u001b[43m[\u001b[49m\u001b[43mlength\u001b[49m\u001b[43m,\u001b[49m\u001b[43m \u001b[49m\u001b[43mwidth\u001b[49m\u001b[43m]\u001b[49m\u001b[43m]\u001b[49m\u001b[43m)\u001b[49m\u001b[43m,\u001b[49m\u001b[43m \u001b[49m\u001b[43mNx\u001b[49m\u001b[43m,\u001b[49m\u001b[43m \u001b[49m\u001b[43mNy\u001b[49m\u001b[43m,\u001b[49m\u001b[43m \u001b[49m\u001b[43mmesh\u001b[49m\u001b[43m.\u001b[49m\u001b[43mDiagonalType\u001b[49m\u001b[43m.\u001b[49m\u001b[43mcrossed\u001b[49m\u001b[43m)\u001b[49m\n\u001b[32m     17\u001b[39m \u001b[38;5;66;03m#outline_points = utils.generate_sine_distorted_rectangle(length, width, amplitude, frequency, n_points)\u001b[39;00m\n\u001b[32m     18\u001b[39m \u001b[38;5;66;03m#utils.generate_and_save_linear_mesh(outline_points, mesh_name, mesh_size, mesh_name)\u001b[39;00m\n\u001b[32m     19\u001b[39m domain, cell_tags, facet_tags = gmshio.read_from_msh(mesh_obj, comm=MPI.COMM_WORLD, gdim=\u001b[32m2\u001b[39m)\n",
      "\u001b[36mFile \u001b[39m\u001b[32m/projectnb/me700/students/keenanw7/.conda/envs/fenicsx-env/lib/python3.13/site-packages/dolfinx/mesh.py:863\u001b[39m, in \u001b[36mcreate_rectangle\u001b[39m\u001b[34m(comm, points, n, cell_type, dtype, ghost_mode, partitioner, diagonal)\u001b[39m\n\u001b[32m    861\u001b[39m \u001b[38;5;28;01mif\u001b[39;00m partitioner \u001b[38;5;129;01mis\u001b[39;00m \u001b[38;5;28;01mNone\u001b[39;00m \u001b[38;5;129;01mand\u001b[39;00m comm.size > \u001b[32m1\u001b[39m:\n\u001b[32m    862\u001b[39m     partitioner = _cpp.mesh.create_cell_partitioner(ghost_mode)\n\u001b[32m--> \u001b[39m\u001b[32m863\u001b[39m domain = ufl.Mesh(\u001b[43mbasix\u001b[49m\u001b[43m.\u001b[49m\u001b[43mufl\u001b[49m\u001b[43m.\u001b[49m\u001b[43melement\u001b[49m\u001b[43m(\u001b[49m\u001b[33;43m\"\u001b[39;49m\u001b[33;43mLagrange\u001b[39;49m\u001b[33;43m\"\u001b[39;49m\u001b[43m,\u001b[49m\u001b[43m \u001b[49m\u001b[43mcell_type\u001b[49m\u001b[43m.\u001b[49m\u001b[43mname\u001b[49m\u001b[43m,\u001b[49m\u001b[43m \u001b[49m\u001b[32;43m1\u001b[39;49m\u001b[43m,\u001b[49m\u001b[43m \u001b[49m\u001b[43mshape\u001b[49m\u001b[43m=\u001b[49m\u001b[43m(\u001b[49m\u001b[32;43m2\u001b[39;49m\u001b[43m,\u001b[49m\u001b[43m)\u001b[49m\u001b[43m,\u001b[49m\u001b[43m \u001b[49m\u001b[43mdtype\u001b[49m\u001b[43m=\u001b[49m\u001b[43mdtype\u001b[49m\u001b[43m)\u001b[49m)  \u001b[38;5;66;03m# type: ignore\u001b[39;00m\n\u001b[32m    864\u001b[39m \u001b[38;5;28;01mif\u001b[39;00m np.issubdtype(dtype, np.float32):\n\u001b[32m    865\u001b[39m     msh = _cpp.mesh.create_rectangle_float32(comm, points, n, cell_type, partitioner, diagonal)\n",
      "\u001b[36mFile \u001b[39m\u001b[32m/projectnb/me700/students/keenanw7/.conda/envs/fenicsx-env/lib/python3.13/site-packages/basix/ufl.py:2019\u001b[39m, in \u001b[36melement\u001b[39m\u001b[34m(family, cell, degree, lagrange_variant, dpc_variant, discontinuous, shape, symmetry, dtype)\u001b[39m\n\u001b[32m   2017\u001b[39m \u001b[38;5;66;03m# Conversion of string arguments to types\u001b[39;00m\n\u001b[32m   2018\u001b[39m \u001b[38;5;28;01mif\u001b[39;00m \u001b[38;5;28misinstance\u001b[39m(cell, \u001b[38;5;28mstr\u001b[39m):\n\u001b[32m-> \u001b[39m\u001b[32m2019\u001b[39m     cell = \u001b[43m_basix\u001b[49m\u001b[43m.\u001b[49m\u001b[43mCellType\u001b[49m\u001b[43m[\u001b[49m\u001b[43mcell\u001b[49m\u001b[43m]\u001b[49m\n\u001b[32m   2020\u001b[39m \u001b[38;5;28;01mif\u001b[39;00m \u001b[38;5;28misinstance\u001b[39m(family, \u001b[38;5;28mstr\u001b[39m):\n\u001b[32m   2021\u001b[39m     \u001b[38;5;28;01mif\u001b[39;00m family.startswith(\u001b[33m\"\u001b[39m\u001b[33mDiscontinuous \u001b[39m\u001b[33m\"\u001b[39m):\n",
      "\u001b[36mFile \u001b[39m\u001b[32m/projectnb/me700/students/keenanw7/.conda/envs/fenicsx-env/lib/python3.13/enum.py:791\u001b[39m, in \u001b[36mEnumType.__getitem__\u001b[39m\u001b[34m(cls, name)\u001b[39m\n\u001b[32m    787\u001b[39m \u001b[38;5;28;01mdef\u001b[39;00m\u001b[38;5;250m \u001b[39m\u001b[34m__getitem__\u001b[39m(\u001b[38;5;28mcls\u001b[39m, name):\n\u001b[32m    788\u001b[39m \u001b[38;5;250m    \u001b[39m\u001b[33;03m\"\"\"\u001b[39;00m\n\u001b[32m    789\u001b[39m \u001b[33;03m    Return the member matching `name`.\u001b[39;00m\n\u001b[32m    790\u001b[39m \u001b[33;03m    \"\"\"\u001b[39;00m\n\u001b[32m--> \u001b[39m\u001b[32m791\u001b[39m     \u001b[38;5;28;01mreturn\u001b[39;00m \u001b[38;5;28;43mcls\u001b[39;49m\u001b[43m.\u001b[49m\u001b[43m_member_map_\u001b[49m\u001b[43m[\u001b[49m\u001b[43mname\u001b[49m\u001b[43m]\u001b[49m\n",
      "\u001b[31mKeyError\u001b[39m: 'crossed'"
     ]
    }
   ],
   "source": [
    "length = 10.0\n",
    "width = 0.2\n",
    "b = 4 # beam thickness in z-direction (Note - does not change simulation)\n",
    "I = b*width**3/12\n",
    "\n",
    "amplitude = 0\n",
    "frequency = 0\n",
    "n_points = 100\n",
    "\n",
    "mesh_name = \"rectangle.msh\"\n",
    "mesh_size = 0.1\n",
    "\n",
    "Nx = 100\n",
    "Ny = 2\n",
    "mesh_obj = mesh.create_rectangle(np.array([[0, 0], [length, width]]), Nx, Ny, mesh.DiagonalType.crossed)\n",
    "\n",
    "#outline_points = utils.generate_sine_distorted_rectangle(length, width, amplitude, frequency, n_points)\n",
    "#utils.generate_and_save_linear_mesh(outline_points, mesh_name, mesh_size, mesh_name)\n",
    "domain, cell_tags, facet_tags = gmshio.read_from_msh(mesh_obj, comm=MPI.COMM_WORLD, gdim=2)\n"
   ]
  },
  {
   "cell_type": "markdown",
   "metadata": {},
   "source": [
    "## Define Function Space for Vector Displacement"
   ]
  },
  {
   "cell_type": "code",
   "execution_count": 14,
   "metadata": {},
   "outputs": [],
   "source": [
    "V = fem.functionspace(domain, (\"Lagrange\", 1, (domain.geometry.dim,)))\n",
    "v = ufl.TestFunction(V)\n",
    "u = fem.Function(V, name=\"Displacement\")"
   ]
  },
  {
   "cell_type": "markdown",
   "metadata": {},
   "source": [
    "## Initialize Material Model"
   ]
  },
  {
   "cell_type": "code",
   "execution_count": 15,
   "metadata": {},
   "outputs": [],
   "source": [
    "mu = 134.6\n",
    "K = 83.33\n",
    "#mu = E / (2*(1 + v))\n",
    "#K = E / (3*(1 - 2*v))\n",
    "nu = (3*mu/K - 2) / (2 + 6*mu/K)\n",
    "E = mu * 2*(1 + nu)\n",
    "\n",
    "nu = 0.3\n",
    "mu = fem.Constant(domain, E / (2 * (1 + nu)))\n",
    "lmbda = fem.Constant(domain, E * nu / ((1 + nu) * (1 - 2 * nu)))\n",
    "\n",
    "d = domain.geometry.dim\n",
    "I = ufl.Identity(d)\n",
    "F = ufl.variable(I + ufl.grad(u))\n",
    "J = ufl.det(F)\n",
    "C = F.T * F\n",
    "I1 = ufl.tr(C)\n",
    "psi = (mu / 2) * (I1 - 3) - mu * ufl.ln(J) + (lmbda / 2) * ufl.ln(J)**2\n",
    "P = ufl.diff(psi, F)"
   ]
  },
  {
   "cell_type": "markdown",
   "metadata": {},
   "source": [
    "![](a-mesh.png \"Beam Mesh\")"
   ]
  },
  {
   "cell_type": "markdown",
   "metadata": {},
   "source": [
    "## Specify Boundary Conditions and Applied Loads\n",
    "\n",
    "To limit only the horizontal motion of the end of the beam representing the middle, we specify an x-velocity of 0 and a y-velocity of None."
   ]
  },
  {
   "cell_type": "code",
   "execution_count": 16,
   "metadata": {},
   "outputs": [],
   "source": [
    "def left(x): return np.isclose(x[0], 0.0, atol=1e-5)\n",
    "\n",
    "\n",
    "def right(x): return np.isclose(x[0], length, atol=1e-5)\n",
    "\n",
    "\n",
    "fdim = domain.topology.dim - 1\n",
    "left_facets = mesh.locate_entities_boundary(domain, fdim, left)\n",
    "right_facets = mesh.locate_entities_boundary(domain, fdim, right)\n",
    "\n",
    "marked_facets = np.hstack([left_facets, right_facets])\n",
    "marked_values = np.hstack([np.full_like(left_facets, 1),\n",
    "                          np.full_like(right_facets, 2)])\n",
    "sorted_facets = np.argsort(marked_facets)\n",
    "facet_tag = mesh.meshtags(domain, fdim, marked_facets[sorted_facets],\n",
    "                          marked_values[sorted_facets])\n",
    "\n",
    "u_bc = np.array((0,) * domain.geometry.dim, dtype=default_scalar_type)\n",
    "left_dofs = fem.locate_dofs_topological(V, facet_tag.dim, facet_tag.find(1))\n",
    "bcs = [fem.dirichletbc(u_bc, left_dofs, V)]\n",
    "\n",
    "# Apply the uniform distributed load\n",
    "q = -0.02\n",
    "\n",
    "B = fem.Constant(domain, default_scalar_type((0, 0)))\n",
    "T = fem.Constant(domain, default_scalar_type((0, 0)))"
   ]
  },
  {
   "cell_type": "markdown",
   "metadata": {},
   "source": [
    "## Build Variational Form"
   ]
  },
  {
   "cell_type": "code",
   "execution_count": 17,
   "metadata": {},
   "outputs": [],
   "source": [
    "metadata = {\"quadrature_degree\": 4}\n",
    "ds = ufl.Measure(\"ds\", domain=domain, subdomain_data=facet_tag, metadata=metadata)\n",
    "dx = ufl.Measure(\"dx\", domain=domain, metadata=metadata)\n",
    "F_form = ufl.inner(ufl.grad(v), P) * dx - ufl.inner(v, B) * dx - ufl.inner(v, T) * ds(2)"
   ]
  },
  {
   "cell_type": "markdown",
   "metadata": {},
   "source": [
    "## Setup Solver"
   ]
  },
  {
   "cell_type": "code",
   "execution_count": 18,
   "metadata": {},
   "outputs": [],
   "source": [
    "problem = NonlinearProblem(F_form, u, bcs)\n",
    "solver = NewtonSolver(domain.comm, problem)\n",
    "solver.atol = 1e-8\n",
    "solver.rtol = 1e-8\n",
    "solver.convergence_criterion = \"incremental\""
   ]
  },
  {
   "cell_type": "markdown",
   "metadata": {},
   "source": [
    "## Setup Visualizer"
   ]
  },
  {
   "cell_type": "code",
   "execution_count": 19,
   "metadata": {},
   "outputs": [],
   "source": [
    "pyvista.start_xvfb()\n",
    "plotter = pyvista.Plotter(window_size=(800, 600), off_screen=True, \n",
    "                          notebook=False, shape=(1,1), title=\"2D FEniCSx Plot\", \n",
    "                          lighting=None)\n",
    "plotter.open_gif(\"script_example.gif\", fps=3)\n",
    "\n",
    "topology, cells, geometry = plot.vtk_mesh(u.function_space)\n",
    "function_grid = pyvista.UnstructuredGrid(topology, cells, geometry)\n",
    "\n",
    "# Prepare 3D vectors for PyVista by appending a zero z-component\n",
    "values = np.zeros((geometry.shape[0], 3))\n",
    "u_vals = u.x.array.reshape(geometry.shape[0], -1)\n",
    "values[:, :u_vals.shape[1]] = u_vals  # Typically, u_vals.shape[1] == 2\n",
    "function_grid[\"u\"] = values\n",
    "function_grid.set_active_vectors(\"u\")\n",
    "\n",
    "# Warp only in-plane (avoid any artificial out-of-plane deformation)\n",
    "warped = function_grid.warp_by_vector(\"u\", factor=1.0)\n",
    "warped.points[:, 2] = 0.0  # Ensure all points lie in the 2D plane (z=0)\n",
    "\n",
    "warped.set_active_vectors(\"u\")\n",
    "actor = plotter.add_mesh(warped, show_edges=False, lighting=False, clim=[0, 10])\n",
    "\n",
    "\n",
    "Vs = fem.functionspace(domain, (\"Lagrange\", 1))\n",
    "magnitude = fem.Function(Vs)\n",
    "us = fem.Expression(ufl.sqrt(sum([u[i]**2 for i in range(len(u))])), \n",
    "                    Vs.element.interpolation_points())\n",
    "magnitude.interpolate(us)\n",
    "warped[\"mag\"] = magnitude.x.array"
   ]
  },
  {
   "cell_type": "markdown",
   "metadata": {},
   "source": [
    "## Run the Solver and Plot the Results"
   ]
  },
  {
   "cell_type": "code",
   "execution_count": 24,
   "metadata": {},
   "outputs": [
    {
     "ename": "TypeError",
     "evalue": "unsupported operand type(s) for ** or pow(): 'Vector' and 'int'",
     "output_type": "error",
     "traceback": [
      "\u001b[31m---------------------------------------------------------------------------\u001b[39m",
      "\u001b[31mTypeError\u001b[39m                                 Traceback (most recent call last)",
      "\u001b[36mCell\u001b[39m\u001b[36m \u001b[39m\u001b[32mIn[24]\u001b[39m\u001b[32m, line 3\u001b[39m\n\u001b[32m      1\u001b[39m \u001b[38;5;66;03m# Analytical solution: u_y(x)\u001b[39;00m\n\u001b[32m      2\u001b[39m x_vals = u.x\n\u001b[32m----> \u001b[39m\u001b[32m3\u001b[39m analytical_u_y = q*\u001b[43mx_vals\u001b[49m\u001b[43m*\u001b[49m\u001b[43m*\u001b[49m\u001b[32;43m2\u001b[39;49m/(\u001b[32m24\u001b[39m*E*I) * (length-x_vals)**\u001b[32m2\u001b[39m\n\u001b[32m      5\u001b[39m \u001b[38;5;66;03m# FenicsX Simulation\u001b[39;00m\n\u001b[32m      6\u001b[39m log.set_log_level(log.LogLevel.INFO)\n",
      "\u001b[31mTypeError\u001b[39m: unsupported operand type(s) for ** or pow(): 'Vector' and 'int'"
     ]
    }
   ],
   "source": [
    "# Analytical solution: u_y(x)\n",
    "x_vals = u.x\n",
    "#analytical_u_y = q*x_vals**2/(24*E*I) * (length-x_vals)**2\n",
    "\n",
    "# FenicsX Simulation\n",
    "log.set_log_level(log.LogLevel.INFO)\n",
    "tval0 = 500\n",
    "for n in range(1, 10):\n",
    "    T.value[0] = n * tval0\n",
    "    num_its, converged = solver.solve(u)\n",
    "    assert converged\n",
    "    u.x.scatter_forward()\n",
    "    print(f\"Time step {n}, Number of iterations {num_its}, Load {T.value}\")\n",
    "    function_grid[\"u\"][:, :len(u)] = u.x.array.reshape(geometry.shape[0], len(u))\n",
    "    magnitude.interpolate(us)\n",
    "    warped.set_active_scalars(\"mag\")\n",
    "    warped_n = function_grid.warp_by_vector(factor=1)\n",
    "    warped.points[:, :] = warped_n.points\n",
    "    warped.point_data[\"mag\"][:] = magnitude.x.array\n",
    "    plotter.update_scalar_bar_range([0, 12])\n",
    "    plotter.view_xy()\n",
    "    if n == 1:\n",
    "        plotter.reset_camera()\n",
    "        plotter.camera.Zoom(0.7)\n",
    "        saved_camera = plotter.camera_position\n",
    "    else:\n",
    "        plotter.camera_position = saved_camera\n",
    "        plotter.camera.Zoom(0.7)\n",
    "    plotter.write_frame()\n",
    "\n",
    "plotter.close()"
   ]
  }
 ],
 "metadata": {
  "kernelspec": {
   "display_name": "myenv",
   "language": "python",
   "name": "python3"
  },
  "language_info": {
   "codemirror_mode": {
    "name": "ipython",
    "version": 3
   },
   "file_extension": ".py",
   "mimetype": "text/x-python",
   "name": "python",
   "nbconvert_exporter": "python",
   "pygments_lexer": "ipython3",
   "version": "3.13.3"
  }
 },
 "nbformat": 4,
 "nbformat_minor": 2
}

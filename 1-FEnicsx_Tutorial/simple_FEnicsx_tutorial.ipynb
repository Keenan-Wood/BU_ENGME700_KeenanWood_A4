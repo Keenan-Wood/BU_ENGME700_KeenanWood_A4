{
 "cells": [
  {
   "cell_type": "markdown",
   "metadata": {},
   "source": [
    "# Simple FEnicsx Tutorial\n",
    "\n",
    "This tutorial demonstrates using FEnicsx to solve the Helmholtz Equation.\n",
    "\n",
    "This is only a slight modification of the tutorial found at https://jsdokken.com/fenics22-tutorial/helmholtz.html - please explore this site to view the original and for other in-depth tutorials.\n",
    "\n",
    "### References\n",
    "Hans Petter Langtangen and Anders Logg. Solving PDEs in Python: The FEniCS Tutorial I. Springer International Publishing, Cham, 2016. ISBN 978-3-319-52462-7. doi:10.1007/978-3-319-52462-7"
   ]
  },
  {
   "cell_type": "markdown",
   "metadata": {},
   "source": [
    "## Problem Setup"
   ]
  },
  {
   "cell_type": "code",
   "execution_count": 1,
   "metadata": {},
   "outputs": [],
   "source": [
    "from mpi4py import MPI\n",
    "\n",
    "import numpy as np\n",
    "\n",
    "import dolfinx.fem.petsc\n",
    "import ufl"
   ]
  },
  {
   "cell_type": "markdown",
   "metadata": {},
   "source": [
    "This example is designed to be executed with complex-valued degrees of freedom. To be able to solve this problem, we use the complex build of PETSc."
   ]
  },
  {
   "cell_type": "code",
   "execution_count": 5,
   "metadata": {},
   "outputs": [],
   "source": [
    "import sys\n",
    "\n",
    "from petsc4py import PETSc\n",
    "\n",
    "#if not np.issubdtype(PETSc.ScalarType, np.complexfloating):\n",
    "#    print(\"This tutorial requires complex number support\")\n",
    "#    sys.exit(0)\n",
    "#else:\n",
    "#    print(f\"Using {PETSc.ScalarType}.\")"
   ]
  },
  {
   "cell_type": "markdown",
   "metadata": {},
   "source": [
    "## Defining Model Parameters"
   ]
  },
  {
   "cell_type": "code",
   "execution_count": 7,
   "metadata": {},
   "outputs": [],
   "source": [
    "# wavenumber in free space (air)\n",
    "k0 = 10 * np.pi\n",
    "\n",
    "# Corresponding wavelength\n",
    "lmbda = 2 * np.pi / k0\n",
    "\n",
    "# Polynomial degree\n",
    "degree = 6\n",
    "\n",
    "# Mesh order\n",
    "mesh_order = 2"
   ]
  },
  {
   "cell_type": "markdown",
   "metadata": {},
   "source": [
    "## Interfacing with GMSH\n",
    "\n",
    "We will use Gmsh to generate the computational domain (mesh) for this example. As long as Gmsh has been installed (including its Python API), DOLFINx supports direct input of Gmsh models (generated on one process). DOLFINx will then in turn distribute the mesh over all processes in the communicator passed to dolfinx.io.gmshio.model_to_mesh.\n",
    "\n",
    "The function generate_mesh creates a Gmsh model on rank 0 of MPI.COMM_WORLD."
   ]
  },
  {
   "cell_type": "code",
   "execution_count": 8,
   "metadata": {},
   "outputs": [
    {
     "ename": "ModuleNotFoundError",
     "evalue": "No module named 'mesh_generation'",
     "output_type": "error",
     "traceback": [
      "\u001b[31m---------------------------------------------------------------------------\u001b[39m",
      "\u001b[31mModuleNotFoundError\u001b[39m                       Traceback (most recent call last)",
      "\u001b[36mCell\u001b[39m\u001b[36m \u001b[39m\u001b[32mIn[8]\u001b[39m\u001b[32m, line 2\u001b[39m\n\u001b[32m      1\u001b[39m \u001b[38;5;28;01mfrom\u001b[39;00m\u001b[38;5;250m \u001b[39m\u001b[34;01mdolfinx\u001b[39;00m\u001b[34;01m.\u001b[39;00m\u001b[34;01mio\u001b[39;00m\u001b[38;5;250m \u001b[39m\u001b[38;5;28;01mimport\u001b[39;00m gmshio\n\u001b[32m----> \u001b[39m\u001b[32m2\u001b[39m \u001b[38;5;28;01mfrom\u001b[39;00m\u001b[38;5;250m \u001b[39m\u001b[34;01mmesh_generation\u001b[39;00m\u001b[38;5;250m \u001b[39m\u001b[38;5;28;01mimport\u001b[39;00m generate_mesh\n\u001b[32m      4\u001b[39m \u001b[38;5;66;03m# MPI communicator\u001b[39;00m\n\u001b[32m      5\u001b[39m comm = MPI.COMM_WORLD\n",
      "\u001b[31mModuleNotFoundError\u001b[39m: No module named 'mesh_generation'"
     ]
    }
   ],
   "source": [
    "from dolfinx.io import gmshio\n",
    "from mesh_generation import generate_mesh\n",
    "\n",
    "# MPI communicator\n",
    "comm = MPI.COMM_WORLD\n",
    "\n",
    "file_name = \"domain.msh\"\n",
    "generate_mesh(file_name, lmbda, order=mesh_order)\n",
    "mesh, cell_tags, _ = gmshio.read_from_msh(file_name, comm, rank=0, gdim=2)"
   ]
  },
  {
   "cell_type": "code",
   "execution_count": null,
   "metadata": {},
   "outputs": [],
   "source": [
    "## Material Parameters\n",
    "\n",
    "Material parameters\n",
    "In this problem, the wave number in the different parts of the domain depends on cell markers, inputted through cell_tags.\n",
    "We use the fact that a discontinuous Lagrange space of order 0 (cell-wise constants) has a one-to-one mapping with the cells local to the process."
   ]
  },
  {
   "cell_type": "code",
   "execution_count": null,
   "metadata": {},
   "outputs": [],
   "source": [
    "W = dolfinx.fem.functionspace(mesh, (\"DG\", 0))\n",
    "k = dolfinx.fem.Function(W)\n",
    "k.x.array[:] = k0\n",
    "k.x.array[cell_tags.find(1)] = 3 * k0"
   ]
  },
  {
   "cell_type": "code",
   "execution_count": null,
   "metadata": {},
   "outputs": [],
   "source": [
    "import matplotlib.pyplot as plt\n",
    "import pyvista\n",
    "\n",
    "from dolfinx.plot import vtk_mesh\n",
    "\n",
    "pyvista.start_xvfb()\n",
    "pyvista.set_plot_theme(\"paraview\")\n",
    "sargs = dict(\n",
    "    title_font_size=25,\n",
    "    label_font_size=20,\n",
    "    fmt=\"%.2e\",\n",
    "    color=\"black\",\n",
    "    position_x=0.1,\n",
    "    position_y=0.8,\n",
    "    width=0.8,\n",
    "    height=0.1,\n",
    ")\n",
    "\n",
    "\n",
    "def export_function(grid, name, show_mesh=False, tessellate=False):\n",
    "    grid.set_active_scalars(name)\n",
    "    plotter = pyvista.Plotter(window_size=(700, 700))\n",
    "    t_grid = grid.tessellate() if tessellate else grid\n",
    "    plotter.add_mesh(t_grid, show_edges=False, scalar_bar_args=sargs)\n",
    "    if show_mesh:\n",
    "        V = dolfinx.fem.functionspace(mesh, (\"Lagrange\", 1))\n",
    "        grid_mesh = pyvista.UnstructuredGrid(*vtk_mesh(V))\n",
    "        plotter.add_mesh(grid_mesh, style=\"wireframe\", line_width=0.1, color=\"k\")\n",
    "        plotter.view_xy()\n",
    "    plotter.view_xy()\n",
    "    plotter.camera.zoom(1.3)\n",
    "    plotter.export_html(f\"./{name}.html\")"
   ]
  },
  {
   "cell_type": "code",
   "execution_count": null,
   "metadata": {},
   "outputs": [],
   "source": [
    "grid = pyvista.UnstructuredGrid(*vtk_mesh(mesh))\n",
    "grid.cell_data[\"wavenumber\"] = k.x.array.real"
   ]
  },
  {
   "cell_type": "code",
   "execution_count": null,
   "metadata": {},
   "outputs": [],
   "source": [
    "export_function(grid, \"wavenumber\", show_mesh=True, tessellate=True)"
   ]
  },
  {
   "cell_type": "code",
   "execution_count": null,
   "metadata": {},
   "outputs": [],
   "source": [
    "%%html\n",
    "<iframe src='./wavenumber.html' height=\"700px\" width=\"700px\"></iframe>  <!--  # noqa, -->"
   ]
  }
 ],
 "metadata": {
  "kernelspec": {
   "display_name": "myenv",
   "language": "python",
   "name": "python3"
  },
  "language_info": {
   "codemirror_mode": {
    "name": "ipython",
    "version": 3
   },
   "file_extension": ".py",
   "mimetype": "text/x-python",
   "name": "python",
   "nbconvert_exporter": "python",
   "pygments_lexer": "ipython3",
   "version": "3.13.3"
  }
 },
 "nbformat": 4,
 "nbformat_minor": 2
}

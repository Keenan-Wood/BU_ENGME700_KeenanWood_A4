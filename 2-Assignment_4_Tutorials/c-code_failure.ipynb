{
 "cells": [
  {
   "cell_type": "markdown",
   "metadata": {},
   "source": [
    "# Code Failure Example - Cantilevered Hyperelastic Beam\n",
    "\n",
    "This tutorial starts with the previous example (in b-mesh_refinement.ipynb), except with a longer beam length, and shows how using a coarse mesh can cause the solver to fail."
   ]
  },
  {
   "cell_type": "markdown",
   "metadata": {},
   "source": [
    "First, we import dependencies and setup the simulation domain.\n",
    "\n",
    "Here we extend the beam from a length of 20.0 to 40.0 and mesh with the same number of elements as in the previous example, [20, 5, 5]. This results in a much coarser mesh along the length of the beam."
   ]
  },
  {
   "cell_type": "code",
   "execution_count": 121,
   "metadata": {},
   "outputs": [
    {
     "name": "stdout",
     "output_type": "stream",
     "text": [
      "[2025-04-26 10:01:34.642] [info] Extract basic topology: 640->640\n",
      "[2025-04-26 10:01:34.642] [info] Build local dual graph\n",
      "[2025-04-26 10:01:34.642] [info] Build local part of mesh dual graph (mixed)\n",
      "[2025-04-26 10:01:34.643] [info] GPS pseudo-diameter:(22) 79-0\n",
      "[2025-04-26 10:01:34.643] [info] Create topology (single cell type)\n",
      "[2025-04-26 10:01:34.643] [info] Create topology (generalised)\n",
      "[2025-04-26 10:01:34.643] [info] Computing communication graph edges (using NBX algorithm). Number of input edges: 1\n",
      "[2025-04-26 10:01:34.643] [info] Finished graph edge discovery using NBX algorithm. Number of discovered edges 1\n",
      "[2025-04-26 10:01:34.643] [info] Compute ghost indices\n",
      "[2025-04-26 10:01:34.643] [info] Computing communication graph edges (using PCX algorithm). Number of input edges: 0\n",
      "[2025-04-26 10:01:34.643] [info] Finished graph edge discovery using PCX algorithm. Number of discovered edges 0\n",
      "[2025-04-26 10:01:34.643] [info] Computing communication graph edges (using NBX algorithm). Number of input edges: 0\n",
      "[2025-04-26 10:01:34.643] [info] Finished graph edge discovery using NBX algorithm. Number of discovered edges 0\n",
      "[2025-04-26 10:01:34.643] [info] Computing communication graph edges (using NBX algorithm). Number of input edges: 0\n",
      "[2025-04-26 10:01:34.643] [info] Finished graph edge discovery using NBX algorithm. Number of discovered edges 0\n",
      "[2025-04-26 10:01:34.643] [info] Number of neighbourhood source ranks in distribute_to_postoffice: 0\n",
      "[2025-04-26 10:01:34.643] [info] Computing communication graph edges (using NBX algorithm). Number of input edges: 0\n",
      "[2025-04-26 10:01:34.643] [info] Finished graph edge discovery using NBX algorithm. Number of discovered edges 0\n",
      "[2025-04-26 10:01:34.643] [info] Neighbourhood destination ranks from post office in distribute_data (rank, num dests, num dests/mpi_size): 0, 0, 0\n",
      "[2025-04-26 10:01:34.643] [info] Checking required entities per dimension\n",
      "[2025-04-26 10:01:34.643] [info] Cell type: 0 dofmap: 80x8\n",
      "[2025-04-26 10:01:34.643] [info] Global index computation\n",
      "[2025-04-26 10:01:34.643] [info] Got 1 index_maps\n",
      "[2025-04-26 10:01:34.643] [info] Get global indices\n",
      "[2025-04-26 10:01:34.646] [info] Computing mesh entities of dimension 1\n",
      "[2025-04-26 10:01:34.646] [info] Computing communication graph edges (using NBX algorithm). Number of input edges: 0\n",
      "[2025-04-26 10:01:34.646] [info] Finished graph edge discovery using NBX algorithm. Number of discovered edges 0\n",
      "[2025-04-26 10:01:34.646] [info] Computing mesh entities of dimension 2\n",
      "[2025-04-26 10:01:34.647] [info] Computing communication graph edges (using NBX algorithm). Number of input edges: 0\n",
      "[2025-04-26 10:01:34.647] [info] Finished graph edge discovery using NBX algorithm. Number of discovered edges 0\n",
      "[2025-04-26 10:01:34.647] [info] Checking required entities per dimension\n",
      "[2025-04-26 10:01:34.647] [info] Cell type: 0 dofmap: 80x27\n",
      "[2025-04-26 10:01:34.647] [info] Global index computation\n",
      "[2025-04-26 10:01:34.647] [info] Got 4 index_maps\n",
      "[2025-04-26 10:01:34.647] [info] Get global indices\n"
     ]
    }
   ],
   "source": [
    "from dolfinx import log, default_scalar_type\n",
    "from dolfinx.fem.petsc import NonlinearProblem\n",
    "from dolfinx.nls.petsc import NewtonSolver\n",
    "import pyvista\n",
    "import numpy as np\n",
    "import ufl\n",
    "\n",
    "from mpi4py import MPI\n",
    "from dolfinx import fem, mesh, plot\n",
    "L = 40.0\n",
    "nx = 20\n",
    "ny = 2\n",
    "nz = 2\n",
    "domain = mesh.create_box(MPI.COMM_WORLD, [[0.0, 0.0, 0.0], [L, 1, 1]], [nx, ny, nz], mesh.CellType.hexahedron)\n",
    "V = fem.functionspace(domain, (\"Lagrange\", 2, (domain.geometry.dim, )))"
   ]
  },
  {
   "cell_type": "markdown",
   "metadata": {},
   "source": [
    "To simplify boundary condition application, we next create functions to select the left and right groups of facets."
   ]
  },
  {
   "cell_type": "code",
   "execution_count": 122,
   "metadata": {},
   "outputs": [
    {
     "name": "stdout",
     "output_type": "stream",
     "text": [
      "[2025-04-26 10:01:34.655] [info] Requesting connectivity (2, 0) - (3, 0)\n",
      "[2025-04-26 10:01:34.655] [info] Computing mesh connectivity 2-3 from transpose.\n",
      "[2025-04-26 10:01:34.655] [info] Requesting connectivity (2, 0) - (0, 0)\n",
      "[2025-04-26 10:01:34.655] [info] Requesting connectivity (2, 0) - (2, 0)\n",
      "[2025-04-26 10:01:34.655] [info] Requesting connectivity (0, 0) - (3, 0)\n",
      "[2025-04-26 10:01:34.655] [info] Computing mesh connectivity 0-3 from transpose.\n",
      "[2025-04-26 10:01:34.655] [info] Requesting connectivity (3, 0) - (0, 0)\n",
      "[2025-04-26 10:01:34.655] [info] Requesting connectivity (2, 0) - (3, 0)\n",
      "[2025-04-26 10:01:34.655] [info] Requesting connectivity (2, 0) - (0, 0)\n",
      "[2025-04-26 10:01:34.655] [info] Requesting connectivity (2, 0) - (2, 0)\n",
      "[2025-04-26 10:01:34.655] [info] Requesting connectivity (0, 0) - (3, 0)\n",
      "[2025-04-26 10:01:34.655] [info] Requesting connectivity (3, 0) - (0, 0)\n"
     ]
    }
   ],
   "source": [
    "def left(x):\n",
    "    return np.isclose(x[0], 0)\n",
    "\n",
    "\n",
    "def right(x):\n",
    "    return np.isclose(x[0], L)\n",
    "\n",
    "\n",
    "fdim = domain.topology.dim - 1\n",
    "left_facets = mesh.locate_entities_boundary(domain, fdim, left)\n",
    "right_facets = mesh.locate_entities_boundary(domain, fdim, right)\n",
    "\n",
    "# Concatenate and sort the arrays based on facet indices. Left facets marked with 1, right facets with two\n",
    "marked_facets = np.hstack([left_facets, right_facets])\n",
    "marked_values = np.hstack([np.full_like(left_facets, 1), np.full_like(right_facets, 2)])\n",
    "sorted_facets = np.argsort(marked_facets)\n",
    "facet_tag = mesh.meshtags(domain, fdim, marked_facets[sorted_facets], marked_values[sorted_facets])"
   ]
  },
  {
   "cell_type": "markdown",
   "metadata": {},
   "source": [
    "We can then apply the left side boundary conditions (fixed):"
   ]
  },
  {
   "cell_type": "code",
   "execution_count": 123,
   "metadata": {},
   "outputs": [],
   "source": [
    "u_bc = np.array((0,) * domain.geometry.dim, dtype=default_scalar_type)\n",
    "\n",
    "left_dofs = fem.locate_dofs_topological(V, facet_tag.dim, facet_tag.find(1))\n",
    "bcs = [fem.dirichletbc(u_bc, left_dofs, V)]"
   ]
  },
  {
   "cell_type": "markdown",
   "metadata": {},
   "source": [
    "Next, we define the body force and traction, as well as test and solution functions."
   ]
  },
  {
   "cell_type": "code",
   "execution_count": 124,
   "metadata": {},
   "outputs": [],
   "source": [
    "B = fem.Constant(domain, default_scalar_type((0, 0, 0)))\n",
    "T = fem.Constant(domain, default_scalar_type((0, 0, 0)))\n",
    "\n",
    "v = ufl.TestFunction(V)\n",
    "u = fem.Function(V)"
   ]
  },
  {
   "cell_type": "markdown",
   "metadata": {},
   "source": [
    "Now we specify the kinematic properties:"
   ]
  },
  {
   "cell_type": "code",
   "execution_count": 125,
   "metadata": {},
   "outputs": [],
   "source": [
    "# Spatial dimension\n",
    "d = len(u)\n",
    "\n",
    "# Identity tensor\n",
    "I = ufl.variable(ufl.Identity(d))\n",
    "\n",
    "# Deformation gradient\n",
    "F = ufl.variable(I + ufl.grad(u))\n",
    "\n",
    "# Right Cauchy-Green tensor\n",
    "C = ufl.variable(F.T * F)\n",
    "\n",
    "# Invariants of deformation tensors\n",
    "Ic = ufl.variable(ufl.tr(C))\n",
    "J = ufl.variable(ufl.det(F))"
   ]
  },
  {
   "cell_type": "markdown",
   "metadata": {},
   "source": [
    "...as well the hyperelasticity model parameters:"
   ]
  },
  {
   "cell_type": "code",
   "execution_count": 126,
   "metadata": {},
   "outputs": [],
   "source": [
    "# Elasticity parameters\n",
    "E = default_scalar_type(1.0e4)\n",
    "nu = default_scalar_type(0.3)\n",
    "mu = fem.Constant(domain, E / (2 * (1 + nu)))\n",
    "lmbda = fem.Constant(domain, E * nu / ((1 + nu) * (1 - 2 * nu)))\n",
    "# Stored strain energy density (compressible neo-Hookean model)\n",
    "psi = (mu / 2) * (Ic - 3) - mu * ufl.ln(J) + (lmbda / 2) * (ufl.ln(J))**2\n",
    "# Stress\n",
    "# Hyper-elasticity\n",
    "P = ufl.diff(psi, F)"
   ]
  },
  {
   "cell_type": "markdown",
   "metadata": {},
   "source": [
    "Define the weak form with traction integral over all facets with value 2.\n",
    " We set the quadrature degree for the integrals to 4, and use Dolfinx's nonlinearproblem solver."
   ]
  },
  {
   "cell_type": "code",
   "execution_count": 127,
   "metadata": {},
   "outputs": [
    {
     "name": "stdout",
     "output_type": "stream",
     "text": [
      "[2025-04-26 10:01:34.694] [info] Requesting connectivity (2, 0) - (3, 0)\n",
      "[2025-04-26 10:01:34.694] [info] Requesting connectivity (3, 0) - (2, 0)\n",
      "[2025-04-26 10:01:34.694] [info] Requesting connectivity (2, 0) - (3, 0)\n",
      "[2025-04-26 10:01:34.694] [info] Requesting connectivity (3, 0) - (2, 0)\n",
      "[2025-04-26 10:01:34.698] [info] Requesting connectivity (2, 0) - (3, 0)\n",
      "[2025-04-26 10:01:34.698] [info] Requesting connectivity (3, 0) - (2, 0)\n"
     ]
    }
   ],
   "source": [
    "metadata = {\"quadrature_degree\": 4}\n",
    "ds = ufl.Measure('ds', domain=domain, subdomain_data=facet_tag, metadata=metadata)\n",
    "dx = ufl.Measure(\"dx\", domain=domain, metadata=metadata)\n",
    "# Define form F (we want to find u such that F(u) = 0)\n",
    "F = ufl.inner(ufl.grad(v), P) * dx - ufl.inner(v, B) * dx - ufl.inner(v, T) * ds(2)\n",
    "\n",
    "problem = NonlinearProblem(F, u, bcs)"
   ]
  },
  {
   "cell_type": "markdown",
   "metadata": {},
   "source": [
    "Next we customize a newton solver:"
   ]
  },
  {
   "cell_type": "code",
   "execution_count": 128,
   "metadata": {},
   "outputs": [
    {
     "name": "stdout",
     "output_type": "stream",
     "text": [
      "[2025-04-26 10:01:34.705] [info] Column ghost size increased from 0 to 0\n"
     ]
    }
   ],
   "source": [
    "solver = NewtonSolver(domain.comm, problem)\n",
    "\n",
    "# Set Newton solver options\n",
    "solver.atol = 1e-8\n",
    "solver.rtol = 1e-8\n",
    "solver.convergence_criterion = \"incremental\""
   ]
  },
  {
   "cell_type": "markdown",
   "metadata": {},
   "source": [
    "...and create a function to plot the deformation results at each time step:"
   ]
  },
  {
   "cell_type": "code",
   "execution_count": 129,
   "metadata": {},
   "outputs": [
    {
     "name": "stdout",
     "output_type": "stream",
     "text": [
      "[2025-04-26 10:01:37.741] [info] Checking required entities per dimension\n",
      "[2025-04-26 10:01:37.742] [info] Cell type: 0 dofmap: 80x27\n",
      "[2025-04-26 10:01:37.742] [info] Global index computation\n",
      "[2025-04-26 10:01:37.742] [info] Got 4 index_maps\n",
      "[2025-04-26 10:01:37.742] [info] Get global indices\n"
     ]
    }
   ],
   "source": [
    "pyvista.start_xvfb()\n",
    "plotter = pyvista.Plotter()\n",
    "plotter.open_gif(\"c-deformation.gif\", fps=3)\n",
    "\n",
    "topology, cells, geometry = plot.vtk_mesh(u.function_space)\n",
    "function_grid = pyvista.UnstructuredGrid(topology, cells, geometry)\n",
    "\n",
    "values = np.zeros((geometry.shape[0], 3))\n",
    "values[:, :len(u)] = u.x.array.reshape(geometry.shape[0], len(u))\n",
    "function_grid[\"u\"] = values\n",
    "function_grid.set_active_vectors(\"u\")\n",
    "\n",
    "# Warp mesh by deformation\n",
    "warped = function_grid.warp_by_vector(\"u\", factor=1)\n",
    "warped.set_active_vectors(\"u\")\n",
    "\n",
    "# Add mesh to plotter and visualize\n",
    "actor = plotter.add_mesh(warped, show_edges=True, lighting=False, clim=[0, 10])\n",
    "\n",
    "# Compute magnitude of displacement to visualize in GIF\n",
    "Vs = fem.functionspace(domain, (\"Lagrange\", 2))\n",
    "magnitude = fem.Function(Vs)\n",
    "us = fem.Expression(ufl.sqrt(sum([u[i]**2 for i in range(len(u))])), Vs.element.interpolation_points())\n",
    "magnitude.interpolate(us)\n",
    "warped[\"mag\"] = magnitude.x.array"
   ]
  },
  {
   "cell_type": "markdown",
   "metadata": {},
   "source": [
    "Finally, we solve the problem over several time steps, updating the z-component of the traction."
   ]
  },
  {
   "cell_type": "code",
   "execution_count": 130,
   "metadata": {},
   "outputs": [
    {
     "name": "stdout",
     "output_type": "stream",
     "text": [
      "[2025-04-26 10:01:37.807] [info] PETSc Krylov solver starting to solve system.\n",
      "[2025-04-26 10:01:37.913] [info] PETSc Krylov solver starting to solve system.\n",
      "[2025-04-26 10:01:37.955] [info] Newton iteration 2: r (abs) = 405.9626629200634 (tol = 1e-08), r (rel) = 0.674755683934218 (tol = 1e-08)\n",
      "[2025-04-26 10:01:38.005] [info] PETSc Krylov solver starting to solve system.\n",
      "[2025-04-26 10:01:38.047] [info] Newton iteration 3: r (abs) = 224.041069026844 (tol = 1e-08), r (rel) = 0.3723814985180753 (tol = 1e-08)\n",
      "[2025-04-26 10:01:38.094] [info] PETSc Krylov solver starting to solve system.\n",
      "[2025-04-26 10:01:38.137] [info] Newton iteration 4: r (abs) = 250.76735318125316 (tol = 1e-08), r (rel) = 0.4168035939243702 (tol = 1e-08)\n",
      "[2025-04-26 10:01:38.185] [info] PETSc Krylov solver starting to solve system.\n",
      "[2025-04-26 10:01:38.226] [info] Newton iteration 5: r (abs) = nan (tol = 1e-08), r (rel) = nan (tol = 1e-08)\n",
      "[2025-04-26 10:01:38.275] [info] PETSc Krylov solver starting to solve system.\n",
      "[2025-04-26 10:01:38.317] [info] Newton iteration 6: r (abs) = nan (tol = 1e-08), r (rel) = nan (tol = 1e-08)\n",
      "[2025-04-26 10:01:38.364] [info] PETSc Krylov solver starting to solve system.\n",
      "[2025-04-26 10:01:38.405] [info] Newton iteration 7: r (abs) = nan (tol = 1e-08), r (rel) = nan (tol = 1e-08)\n",
      "[2025-04-26 10:01:38.454] [info] PETSc Krylov solver starting to solve system.\n",
      "[2025-04-26 10:01:38.494] [info] Newton iteration 8: r (abs) = nan (tol = 1e-08), r (rel) = nan (tol = 1e-08)\n",
      "[2025-04-26 10:01:38.541] [info] PETSc Krylov solver starting to solve system.\n",
      "[2025-04-26 10:01:38.582] [info] Newton iteration 9: r (abs) = nan (tol = 1e-08), r (rel) = nan (tol = 1e-08)\n",
      "[2025-04-26 10:01:38.630] [info] PETSc Krylov solver starting to solve system.\n",
      "[2025-04-26 10:01:38.670] [info] Newton iteration 10: r (abs) = nan (tol = 1e-08), r (rel) = nan (tol = 1e-08)\n",
      "[2025-04-26 10:01:38.718] [info] PETSc Krylov solver starting to solve system.\n",
      "[2025-04-26 10:01:38.760] [info] Newton iteration 11: r (abs) = nan (tol = 1e-08), r (rel) = nan (tol = 1e-08)\n",
      "[2025-04-26 10:01:38.808] [info] PETSc Krylov solver starting to solve system.\n",
      "[2025-04-26 10:01:38.849] [info] Newton iteration 12: r (abs) = nan (tol = 1e-08), r (rel) = nan (tol = 1e-08)\n",
      "[2025-04-26 10:01:38.896] [info] PETSc Krylov solver starting to solve system.\n",
      "[2025-04-26 10:01:38.937] [info] Newton iteration 13: r (abs) = nan (tol = 1e-08), r (rel) = nan (tol = 1e-08)\n",
      "[2025-04-26 10:01:38.988] [info] PETSc Krylov solver starting to solve system.\n",
      "[2025-04-26 10:01:39.030] [info] Newton iteration 14: r (abs) = nan (tol = 1e-08), r (rel) = nan (tol = 1e-08)\n",
      "[2025-04-26 10:01:39.078] [info] PETSc Krylov solver starting to solve system.\n",
      "[2025-04-26 10:01:39.118] [info] Newton iteration 15: r (abs) = nan (tol = 1e-08), r (rel) = nan (tol = 1e-08)\n",
      "[2025-04-26 10:01:39.167] [info] PETSc Krylov solver starting to solve system.\n",
      "[2025-04-26 10:01:39.210] [info] Newton iteration 16: r (abs) = nan (tol = 1e-08), r (rel) = nan (tol = 1e-08)\n",
      "[2025-04-26 10:01:39.257] [info] PETSc Krylov solver starting to solve system.\n",
      "[2025-04-26 10:01:39.298] [info] Newton iteration 17: r (abs) = nan (tol = 1e-08), r (rel) = nan (tol = 1e-08)\n",
      "[2025-04-26 10:01:39.346] [info] PETSc Krylov solver starting to solve system.\n",
      "[2025-04-26 10:01:39.387] [info] Newton iteration 18: r (abs) = nan (tol = 1e-08), r (rel) = nan (tol = 1e-08)\n",
      "[2025-04-26 10:01:39.434] [info] PETSc Krylov solver starting to solve system.\n",
      "[2025-04-26 10:01:39.475] [info] Newton iteration 19: r (abs) = nan (tol = 1e-08), r (rel) = nan (tol = 1e-08)\n",
      "[2025-04-26 10:01:39.522] [info] PETSc Krylov solver starting to solve system.\n",
      "[2025-04-26 10:01:39.564] [info] Newton iteration 20: r (abs) = nan (tol = 1e-08), r (rel) = nan (tol = 1e-08)\n",
      "[2025-04-26 10:01:39.611] [info] PETSc Krylov solver starting to solve system.\n",
      "[2025-04-26 10:01:39.651] [info] Newton iteration 21: r (abs) = nan (tol = 1e-08), r (rel) = nan (tol = 1e-08)\n",
      "[2025-04-26 10:01:39.698] [info] PETSc Krylov solver starting to solve system.\n",
      "[2025-04-26 10:01:39.738] [info] Newton iteration 22: r (abs) = nan (tol = 1e-08), r (rel) = nan (tol = 1e-08)\n",
      "[2025-04-26 10:01:39.785] [info] PETSc Krylov solver starting to solve system.\n",
      "[2025-04-26 10:01:39.826] [info] Newton iteration 23: r (abs) = nan (tol = 1e-08), r (rel) = nan (tol = 1e-08)\n",
      "[2025-04-26 10:01:39.873] [info] PETSc Krylov solver starting to solve system.\n",
      "[2025-04-26 10:01:39.914] [info] Newton iteration 24: r (abs) = nan (tol = 1e-08), r (rel) = nan (tol = 1e-08)\n",
      "[2025-04-26 10:01:39.961] [info] PETSc Krylov solver starting to solve system.\n",
      "[2025-04-26 10:01:40.002] [info] Newton iteration 25: r (abs) = nan (tol = 1e-08), r (rel) = nan (tol = 1e-08)\n",
      "[2025-04-26 10:01:40.049] [info] PETSc Krylov solver starting to solve system.\n",
      "[2025-04-26 10:01:40.090] [info] Newton iteration 26: r (abs) = nan (tol = 1e-08), r (rel) = nan (tol = 1e-08)\n",
      "[2025-04-26 10:01:40.137] [info] PETSc Krylov solver starting to solve system.\n",
      "[2025-04-26 10:01:40.178] [info] Newton iteration 27: r (abs) = nan (tol = 1e-08), r (rel) = nan (tol = 1e-08)\n",
      "[2025-04-26 10:01:40.225] [info] PETSc Krylov solver starting to solve system.\n",
      "[2025-04-26 10:01:40.266] [info] Newton iteration 28: r (abs) = nan (tol = 1e-08), r (rel) = nan (tol = 1e-08)\n",
      "[2025-04-26 10:01:40.313] [info] PETSc Krylov solver starting to solve system.\n",
      "[2025-04-26 10:01:40.354] [info] Newton iteration 29: r (abs) = nan (tol = 1e-08), r (rel) = nan (tol = 1e-08)\n",
      "[2025-04-26 10:01:40.401] [info] PETSc Krylov solver starting to solve system.\n",
      "[2025-04-26 10:01:40.442] [info] Newton iteration 30: r (abs) = nan (tol = 1e-08), r (rel) = nan (tol = 1e-08)\n",
      "[2025-04-26 10:01:40.488] [info] PETSc Krylov solver starting to solve system.\n",
      "[2025-04-26 10:01:40.528] [info] Newton iteration 31: r (abs) = nan (tol = 1e-08), r (rel) = nan (tol = 1e-08)\n",
      "[2025-04-26 10:01:40.575] [info] PETSc Krylov solver starting to solve system.\n",
      "[2025-04-26 10:01:40.616] [info] Newton iteration 32: r (abs) = nan (tol = 1e-08), r (rel) = nan (tol = 1e-08)\n",
      "[2025-04-26 10:01:40.663] [info] PETSc Krylov solver starting to solve system.\n",
      "[2025-04-26 10:01:40.704] [info] Newton iteration 33: r (abs) = nan (tol = 1e-08), r (rel) = nan (tol = 1e-08)\n",
      "[2025-04-26 10:01:40.751] [info] PETSc Krylov solver starting to solve system.\n",
      "[2025-04-26 10:01:40.792] [info] Newton iteration 34: r (abs) = nan (tol = 1e-08), r (rel) = nan (tol = 1e-08)\n",
      "[2025-04-26 10:01:40.840] [info] PETSc Krylov solver starting to solve system.\n",
      "[2025-04-26 10:01:40.880] [info] Newton iteration 35: r (abs) = nan (tol = 1e-08), r (rel) = nan (tol = 1e-08)\n",
      "[2025-04-26 10:01:40.928] [info] PETSc Krylov solver starting to solve system.\n",
      "[2025-04-26 10:01:40.968] [info] Newton iteration 36: r (abs) = nan (tol = 1e-08), r (rel) = nan (tol = 1e-08)\n",
      "[2025-04-26 10:01:41.016] [info] PETSc Krylov solver starting to solve system.\n",
      "[2025-04-26 10:01:41.056] [info] Newton iteration 37: r (abs) = nan (tol = 1e-08), r (rel) = nan (tol = 1e-08)\n",
      "[2025-04-26 10:01:41.104] [info] PETSc Krylov solver starting to solve system.\n",
      "[2025-04-26 10:01:41.144] [info] Newton iteration 38: r (abs) = nan (tol = 1e-08), r (rel) = nan (tol = 1e-08)\n",
      "[2025-04-26 10:01:41.195] [info] PETSc Krylov solver starting to solve system.\n",
      "[2025-04-26 10:01:41.237] [info] Newton iteration 39: r (abs) = nan (tol = 1e-08), r (rel) = nan (tol = 1e-08)\n",
      "[2025-04-26 10:01:41.287] [info] PETSc Krylov solver starting to solve system.\n",
      "[2025-04-26 10:01:41.327] [info] Newton iteration 40: r (abs) = nan (tol = 1e-08), r (rel) = nan (tol = 1e-08)\n",
      "[2025-04-26 10:01:41.374] [info] PETSc Krylov solver starting to solve system.\n",
      "[2025-04-26 10:01:41.414] [info] Newton iteration 41: r (abs) = nan (tol = 1e-08), r (rel) = nan (tol = 1e-08)\n",
      "[2025-04-26 10:01:41.461] [info] PETSc Krylov solver starting to solve system.\n",
      "[2025-04-26 10:01:41.501] [info] Newton iteration 42: r (abs) = nan (tol = 1e-08), r (rel) = nan (tol = 1e-08)\n",
      "[2025-04-26 10:01:41.548] [info] PETSc Krylov solver starting to solve system.\n",
      "[2025-04-26 10:01:41.589] [info] Newton iteration 43: r (abs) = nan (tol = 1e-08), r (rel) = nan (tol = 1e-08)\n",
      "[2025-04-26 10:01:41.636] [info] PETSc Krylov solver starting to solve system.\n",
      "[2025-04-26 10:01:41.677] [info] Newton iteration 44: r (abs) = nan (tol = 1e-08), r (rel) = nan (tol = 1e-08)\n",
      "[2025-04-26 10:01:41.724] [info] PETSc Krylov solver starting to solve system.\n",
      "[2025-04-26 10:01:41.765] [info] Newton iteration 45: r (abs) = nan (tol = 1e-08), r (rel) = nan (tol = 1e-08)\n",
      "[2025-04-26 10:01:41.812] [info] PETSc Krylov solver starting to solve system.\n",
      "[2025-04-26 10:01:41.852] [info] Newton iteration 46: r (abs) = nan (tol = 1e-08), r (rel) = nan (tol = 1e-08)\n",
      "[2025-04-26 10:01:41.899] [info] PETSc Krylov solver starting to solve system.\n",
      "[2025-04-26 10:01:41.939] [info] Newton iteration 47: r (abs) = nan (tol = 1e-08), r (rel) = nan (tol = 1e-08)\n",
      "[2025-04-26 10:01:41.986] [info] PETSc Krylov solver starting to solve system.\n",
      "[2025-04-26 10:01:42.027] [info] Newton iteration 48: r (abs) = nan (tol = 1e-08), r (rel) = nan (tol = 1e-08)\n",
      "[2025-04-26 10:01:42.074] [info] PETSc Krylov solver starting to solve system.\n",
      "[2025-04-26 10:01:42.115] [info] Newton iteration 49: r (abs) = nan (tol = 1e-08), r (rel) = nan (tol = 1e-08)\n",
      "[2025-04-26 10:01:42.163] [info] PETSc Krylov solver starting to solve system.\n",
      "[2025-04-26 10:01:42.204] [info] Newton iteration 50: r (abs) = nan (tol = 1e-08), r (rel) = nan (tol = 1e-08)\n"
     ]
    },
    {
     "ename": "RuntimeError",
     "evalue": "Newton solver did not converge because maximum number of iterations reached",
     "output_type": "error",
     "traceback": [
      "\u001b[31m---------------------------------------------------------------------------\u001b[39m",
      "\u001b[31mRuntimeError\u001b[39m                              Traceback (most recent call last)",
      "\u001b[36mCell\u001b[39m\u001b[36m \u001b[39m\u001b[32mIn[130]\u001b[39m\u001b[32m, line 5\u001b[39m\n\u001b[32m      3\u001b[39m \u001b[38;5;28;01mfor\u001b[39;00m n \u001b[38;5;129;01min\u001b[39;00m \u001b[38;5;28mrange\u001b[39m(\u001b[32m1\u001b[39m, \u001b[32m10\u001b[39m):\n\u001b[32m      4\u001b[39m     T.value[\u001b[32m2\u001b[39m] = n * tval0\n\u001b[32m----> \u001b[39m\u001b[32m5\u001b[39m     num_its, converged = \u001b[43msolver\u001b[49m\u001b[43m.\u001b[49m\u001b[43msolve\u001b[49m\u001b[43m(\u001b[49m\u001b[43mu\u001b[49m\u001b[43m)\u001b[49m\n\u001b[32m      6\u001b[39m     \u001b[38;5;28;01massert\u001b[39;00m (converged)\n\u001b[32m      7\u001b[39m     u.x.scatter_forward()\n",
      "\u001b[36mFile \u001b[39m\u001b[32m/projectnb/me700/students/keenanw7/.conda/envs/fenicsx-env/lib/python3.13/site-packages/dolfinx/nls/petsc.py:51\u001b[39m, in \u001b[36mNewtonSolver.solve\u001b[39m\u001b[34m(self, u)\u001b[39m\n\u001b[32m     48\u001b[39m \u001b[38;5;28;01mdef\u001b[39;00m\u001b[38;5;250m \u001b[39m\u001b[34msolve\u001b[39m(\u001b[38;5;28mself\u001b[39m, u: fem.Function):\n\u001b[32m     49\u001b[39m \u001b[38;5;250m    \u001b[39m\u001b[33;03m\"\"\"Solve non-linear problem into function u. Returns the number\u001b[39;00m\n\u001b[32m     50\u001b[39m \u001b[33;03m    of iterations and if the solver converged.\"\"\"\u001b[39;00m\n\u001b[32m---> \u001b[39m\u001b[32m51\u001b[39m     n, converged = \u001b[38;5;28;43msuper\u001b[39;49m\u001b[43m(\u001b[49m\u001b[43m)\u001b[49m\u001b[43m.\u001b[49m\u001b[43msolve\u001b[49m\u001b[43m(\u001b[49m\u001b[43mu\u001b[49m\u001b[43m.\u001b[49m\u001b[43mx\u001b[49m\u001b[43m.\u001b[49m\u001b[43mpetsc_vec\u001b[49m\u001b[43m)\u001b[49m\n\u001b[32m     52\u001b[39m     u.x.scatter_forward()\n\u001b[32m     53\u001b[39m     \u001b[38;5;28;01mreturn\u001b[39;00m n, converged\n",
      "\u001b[31mRuntimeError\u001b[39m: Newton solver did not converge because maximum number of iterations reached"
     ]
    }
   ],
   "source": [
    "log.set_log_level(log.LogLevel.INFO)\n",
    "tval0 = -1.5\n",
    "for n in range(1, 10):\n",
    "    T.value[2] = n * tval0\n",
    "    num_its, converged = solver.solve(u)\n",
    "    assert (converged)\n",
    "    u.x.scatter_forward()\n",
    "    print(f\"Time step {n}, Number of iterations {num_its}, Load {T.value}\")\n",
    "    function_grid[\"u\"][:, :len(u)] = u.x.array.reshape(geometry.shape[0], len(u))\n",
    "    magnitude.interpolate(us)\n",
    "    warped.set_active_scalars(\"mag\")\n",
    "    warped_n = function_grid.warp_by_vector(factor=1)\n",
    "    warped.points[:, :] = warped_n.points\n",
    "    warped.point_data[\"mag\"][:] = magnitude.x.array\n",
    "    plotter.update_scalar_bar_range([0, 10])\n",
    "    plotter.write_frame()\n",
    "plotter.close()"
   ]
  },
  {
   "cell_type": "markdown",
   "metadata": {},
   "source": [
    "<img src=\"b-deformation.png\" alt=\"Beam Deformation\" width=\"500\"/>"
   ]
  },
  {
   "cell_type": "markdown",
   "metadata": {},
   "source": [
    "As we can see, the newton solver failed to converge due to the coarse mesh size and long, slender geometry."
   ]
  }
 ],
 "metadata": {
  "kernelspec": {
   "display_name": "me700",
   "language": "python",
   "name": "python3"
  },
  "language_info": {
   "codemirror_mode": {
    "name": "ipython",
    "version": 3
   },
   "file_extension": ".py",
   "mimetype": "text/x-python",
   "name": "python",
   "nbconvert_exporter": "python",
   "pygments_lexer": "ipython3",
   "version": "3.13.3"
  }
 },
 "nbformat": 4,
 "nbformat_minor": 2
}

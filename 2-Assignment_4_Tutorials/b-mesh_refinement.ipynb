{
 "cells": [
  {
   "cell_type": "markdown",
   "metadata": {},
   "source": [
    "# Mesh Refinement Tutorial - Cantilevered Hyperelastic Beam\n",
    "\n",
    "This tutorial is a slight modification of the one found at https://jsdokken.com/dolfinx-tutorial/chapter2/hyperelasticity.html, covering the effects of mesh refinement on the simulation of a cantilevered hyperelastic beam's deflection."
   ]
  },
  {
   "cell_type": "markdown",
   "metadata": {},
   "source": [
    "First, we import dependencies and setup the simulation domain."
   ]
  },
  {
   "cell_type": "code",
   "execution_count": 15,
   "metadata": {},
   "outputs": [
    {
     "name": "stdout",
     "output_type": "stream",
     "text": [
      "[2025-04-26 09:41:09.065] [info] Extract basic topology: 4000->4000\n",
      "[2025-04-26 09:41:09.065] [info] Build local dual graph\n",
      "[2025-04-26 09:41:09.065] [info] Build local part of mesh dual graph (mixed)\n",
      "[2025-04-26 09:41:09.065] [info] GPS pseudo-diameter:(28) 499-0\n",
      "[2025-04-26 09:41:09.065] [info] Create topology (single cell type)\n",
      "[2025-04-26 09:41:09.065] [info] Create topology (generalised)\n",
      "[2025-04-26 09:41:09.065] [info] Computing communication graph edges (using NBX algorithm). Number of input edges: 1\n",
      "[2025-04-26 09:41:09.065] [info] Finished graph edge discovery using NBX algorithm. Number of discovered edges 1\n",
      "[2025-04-26 09:41:09.066] [info] Compute ghost indices\n",
      "[2025-04-26 09:41:09.066] [info] Computing communication graph edges (using PCX algorithm). Number of input edges: 0\n",
      "[2025-04-26 09:41:09.066] [info] Finished graph edge discovery using PCX algorithm. Number of discovered edges 0\n",
      "[2025-04-26 09:41:09.066] [info] Computing communication graph edges (using NBX algorithm). Number of input edges: 0\n",
      "[2025-04-26 09:41:09.066] [info] Finished graph edge discovery using NBX algorithm. Number of discovered edges 0\n",
      "[2025-04-26 09:41:09.066] [info] Computing communication graph edges (using NBX algorithm). Number of input edges: 0\n",
      "[2025-04-26 09:41:09.066] [info] Finished graph edge discovery using NBX algorithm. Number of discovered edges 0\n",
      "[2025-04-26 09:41:09.066] [info] Number of neighbourhood source ranks in distribute_to_postoffice: 0\n",
      "[2025-04-26 09:41:09.066] [info] Computing communication graph edges (using NBX algorithm). Number of input edges: 0\n",
      "[2025-04-26 09:41:09.066] [info] Finished graph edge discovery using NBX algorithm. Number of discovered edges 0\n",
      "[2025-04-26 09:41:09.066] [info] Neighbourhood destination ranks from post office in distribute_data (rank, num dests, num dests/mpi_size): 0, 0, 0\n",
      "[2025-04-26 09:41:09.066] [info] Checking required entities per dimension\n",
      "[2025-04-26 09:41:09.066] [info] Cell type: 0 dofmap: 500x8\n",
      "[2025-04-26 09:41:09.066] [info] Global index computation\n",
      "[2025-04-26 09:41:09.066] [info] Got 1 index_maps\n",
      "[2025-04-26 09:41:09.066] [info] Get global indices\n",
      "[2025-04-26 09:41:09.070] [info] Computing mesh entities of dimension 1\n",
      "[2025-04-26 09:41:09.070] [info] Computing communication graph edges (using NBX algorithm). Number of input edges: 0\n",
      "[2025-04-26 09:41:09.070] [info] Finished graph edge discovery using NBX algorithm. Number of discovered edges 0\n",
      "[2025-04-26 09:41:09.070] [info] Computing mesh entities of dimension 2\n",
      "[2025-04-26 09:41:09.071] [info] Computing communication graph edges (using NBX algorithm). Number of input edges: 0\n",
      "[2025-04-26 09:41:09.071] [info] Finished graph edge discovery using NBX algorithm. Number of discovered edges 0\n",
      "[2025-04-26 09:41:09.071] [info] Checking required entities per dimension\n",
      "[2025-04-26 09:41:09.071] [info] Cell type: 0 dofmap: 500x27\n",
      "[2025-04-26 09:41:09.071] [info] Global index computation\n",
      "[2025-04-26 09:41:09.071] [info] Got 4 index_maps\n",
      "[2025-04-26 09:41:09.071] [info] Get global indices\n"
     ]
    }
   ],
   "source": [
    "from dolfinx import log, default_scalar_type\n",
    "from dolfinx.fem.petsc import NonlinearProblem\n",
    "from dolfinx.nls.petsc import NewtonSolver\n",
    "import pyvista\n",
    "import numpy as np\n",
    "import ufl\n",
    "\n",
    "from mpi4py import MPI\n",
    "from dolfinx import fem, mesh, plot\n",
    "L = 20.0\n",
    "domain = mesh.create_box(MPI.COMM_WORLD, [[0.0, 0.0, 0.0], [L, 1, 1]], [20, 5, 5], mesh.CellType.hexahedron)\n",
    "V = fem.functionspace(domain, (\"Lagrange\", 2, (domain.geometry.dim, )))"
   ]
  },
  {
   "cell_type": "markdown",
   "metadata": {},
   "source": [
    "To simplify boundary condition application, we next create functions to select the left and right groups of facets."
   ]
  },
  {
   "cell_type": "code",
   "execution_count": 16,
   "metadata": {},
   "outputs": [
    {
     "name": "stdout",
     "output_type": "stream",
     "text": [
      "[2025-04-26 09:41:09.098] [info] Requesting connectivity (2, 0) - (3, 0)\n",
      "[2025-04-26 09:41:09.098] [info] Computing mesh connectivity 2-3 from transpose.\n",
      "[2025-04-26 09:41:09.098] [info] Requesting connectivity (2, 0) - (0, 0)\n",
      "[2025-04-26 09:41:09.098] [info] Requesting connectivity (2, 0) - (2, 0)\n",
      "[2025-04-26 09:41:09.098] [info] Requesting connectivity (0, 0) - (3, 0)\n",
      "[2025-04-26 09:41:09.098] [info] Computing mesh connectivity 0-3 from transpose.\n",
      "[2025-04-26 09:41:09.098] [info] Requesting connectivity (3, 0) - (0, 0)\n",
      "[2025-04-26 09:41:09.098] [info] Requesting connectivity (2, 0) - (3, 0)\n",
      "[2025-04-26 09:41:09.098] [info] Requesting connectivity (2, 0) - (0, 0)\n",
      "[2025-04-26 09:41:09.098] [info] Requesting connectivity (2, 0) - (2, 0)\n",
      "[2025-04-26 09:41:09.098] [info] Requesting connectivity (0, 0) - (3, 0)\n",
      "[2025-04-26 09:41:09.098] [info] Requesting connectivity (3, 0) - (0, 0)\n"
     ]
    }
   ],
   "source": [
    "def left(x):\n",
    "    return np.isclose(x[0], 0)\n",
    "\n",
    "\n",
    "def right(x):\n",
    "    return np.isclose(x[0], L)\n",
    "\n",
    "\n",
    "fdim = domain.topology.dim - 1\n",
    "left_facets = mesh.locate_entities_boundary(domain, fdim, left)\n",
    "right_facets = mesh.locate_entities_boundary(domain, fdim, right)\n",
    "\n",
    "# Concatenate and sort the arrays based on facet indices. Left facets marked with 1, right facets with two\n",
    "marked_facets = np.hstack([left_facets, right_facets])\n",
    "marked_values = np.hstack([np.full_like(left_facets, 1), np.full_like(right_facets, 2)])\n",
    "sorted_facets = np.argsort(marked_facets)\n",
    "facet_tag = mesh.meshtags(domain, fdim, marked_facets[sorted_facets], marked_values[sorted_facets])"
   ]
  },
  {
   "cell_type": "markdown",
   "metadata": {},
   "source": [
    "We can then apply the left side boundary conditions (fixed):"
   ]
  },
  {
   "cell_type": "code",
   "execution_count": 17,
   "metadata": {},
   "outputs": [],
   "source": [
    "u_bc = np.array((0,) * domain.geometry.dim, dtype=default_scalar_type)\n",
    "\n",
    "left_dofs = fem.locate_dofs_topological(V, facet_tag.dim, facet_tag.find(1))\n",
    "bcs = [fem.dirichletbc(u_bc, left_dofs, V)]"
   ]
  },
  {
   "cell_type": "markdown",
   "metadata": {},
   "source": [
    "Next, we define the body force and traction, as well as test and solution functions."
   ]
  },
  {
   "cell_type": "code",
   "execution_count": 18,
   "metadata": {},
   "outputs": [],
   "source": [
    "B = fem.Constant(domain, default_scalar_type((0, 0, 0)))\n",
    "T = fem.Constant(domain, default_scalar_type((0, 0, 0)))\n",
    "\n",
    "v = ufl.TestFunction(V)\n",
    "u = fem.Function(V)"
   ]
  },
  {
   "cell_type": "markdown",
   "metadata": {},
   "source": [
    "Now we specify the kinematic properties:"
   ]
  },
  {
   "cell_type": "code",
   "execution_count": 19,
   "metadata": {},
   "outputs": [],
   "source": [
    "# Spatial dimension\n",
    "d = len(u)\n",
    "\n",
    "# Identity tensor\n",
    "I = ufl.variable(ufl.Identity(d))\n",
    "\n",
    "# Deformation gradient\n",
    "F = ufl.variable(I + ufl.grad(u))\n",
    "\n",
    "# Right Cauchy-Green tensor\n",
    "C = ufl.variable(F.T * F)\n",
    "\n",
    "# Invariants of deformation tensors\n",
    "Ic = ufl.variable(ufl.tr(C))\n",
    "J = ufl.variable(ufl.det(F))"
   ]
  },
  {
   "cell_type": "markdown",
   "metadata": {},
   "source": [
    "...as well the hyperelasticity model parameters:"
   ]
  },
  {
   "cell_type": "code",
   "execution_count": 20,
   "metadata": {},
   "outputs": [],
   "source": [
    "# Elasticity parameters\n",
    "E = default_scalar_type(1.0e4)\n",
    "nu = default_scalar_type(0.3)\n",
    "mu = fem.Constant(domain, E / (2 * (1 + nu)))\n",
    "lmbda = fem.Constant(domain, E * nu / ((1 + nu) * (1 - 2 * nu)))\n",
    "# Stored strain energy density (compressible neo-Hookean model)\n",
    "psi = (mu / 2) * (Ic - 3) - mu * ufl.ln(J) + (lmbda / 2) * (ufl.ln(J))**2\n",
    "# Stress\n",
    "# Hyper-elasticity\n",
    "P = ufl.diff(psi, F)"
   ]
  },
  {
   "cell_type": "markdown",
   "metadata": {},
   "source": [
    "Define the weak form with traction integral over all facets with value 2.\n",
    " We set the quadrature degree for the integrals to 4, and use Dolfinx's nonlinearproblem solver."
   ]
  },
  {
   "cell_type": "code",
   "execution_count": 21,
   "metadata": {},
   "outputs": [
    {
     "name": "stdout",
     "output_type": "stream",
     "text": [
      "[2025-04-26 09:41:09.138] [info] Requesting connectivity (2, 0) - (3, 0)\n",
      "[2025-04-26 09:41:09.138] [info] Requesting connectivity (3, 0) - (2, 0)\n",
      "[2025-04-26 09:41:09.138] [info] Requesting connectivity (2, 0) - (3, 0)\n",
      "[2025-04-26 09:41:09.138] [info] Requesting connectivity (3, 0) - (2, 0)\n",
      "[2025-04-26 09:41:09.143] [info] Requesting connectivity (2, 0) - (3, 0)\n",
      "[2025-04-26 09:41:09.143] [info] Requesting connectivity (3, 0) - (2, 0)\n"
     ]
    }
   ],
   "source": [
    "metadata = {\"quadrature_degree\": 4}\n",
    "ds = ufl.Measure('ds', domain=domain, subdomain_data=facet_tag, metadata=metadata)\n",
    "dx = ufl.Measure(\"dx\", domain=domain, metadata=metadata)\n",
    "# Define form F (we want to find u such that F(u) = 0)\n",
    "F = ufl.inner(ufl.grad(v), P) * dx - ufl.inner(v, B) * dx - ufl.inner(v, T) * ds(2)\n",
    "\n",
    "problem = NonlinearProblem(F, u, bcs)"
   ]
  },
  {
   "cell_type": "markdown",
   "metadata": {},
   "source": [
    "Next we customize a newton solver:"
   ]
  },
  {
   "cell_type": "code",
   "execution_count": 22,
   "metadata": {},
   "outputs": [
    {
     "name": "stdout",
     "output_type": "stream",
     "text": [
      "[2025-04-26 09:41:09.155] [info] Column ghost size increased from 0 to 0\n"
     ]
    }
   ],
   "source": [
    "solver = NewtonSolver(domain.comm, problem)\n",
    "\n",
    "# Set Newton solver options\n",
    "solver.atol = 1e-8\n",
    "solver.rtol = 1e-8\n",
    "solver.convergence_criterion = \"incremental\""
   ]
  },
  {
   "cell_type": "markdown",
   "metadata": {},
   "source": [
    "...and create a function to plot the deformation results at each time step:"
   ]
  },
  {
   "cell_type": "code",
   "execution_count": 23,
   "metadata": {},
   "outputs": [
    {
     "name": "stdout",
     "output_type": "stream",
     "text": [
      "[2025-04-26 09:41:12.205] [info] Checking required entities per dimension\n",
      "[2025-04-26 09:41:12.205] [info] Cell type: 0 dofmap: 500x27\n",
      "[2025-04-26 09:41:12.205] [info] Global index computation\n",
      "[2025-04-26 09:41:12.205] [info] Got 4 index_maps\n",
      "[2025-04-26 09:41:12.205] [info] Get global indices\n"
     ]
    }
   ],
   "source": [
    "pyvista.start_xvfb()\n",
    "plotter = pyvista.Plotter()\n",
    "plotter.open_gif(\"b-deformation.gif\", fps=3)\n",
    "\n",
    "topology, cells, geometry = plot.vtk_mesh(u.function_space)\n",
    "function_grid = pyvista.UnstructuredGrid(topology, cells, geometry)\n",
    "\n",
    "values = np.zeros((geometry.shape[0], 3))\n",
    "values[:, :len(u)] = u.x.array.reshape(geometry.shape[0], len(u))\n",
    "function_grid[\"u\"] = values\n",
    "function_grid.set_active_vectors(\"u\")\n",
    "\n",
    "# Warp mesh by deformation\n",
    "warped = function_grid.warp_by_vector(\"u\", factor=1)\n",
    "warped.set_active_vectors(\"u\")\n",
    "\n",
    "# Add mesh to plotter and visualize\n",
    "actor = plotter.add_mesh(warped, show_edges=True, lighting=False, clim=[0, 10])\n",
    "\n",
    "# Compute magnitude of displacement to visualize in GIF\n",
    "Vs = fem.functionspace(domain, (\"Lagrange\", 2))\n",
    "magnitude = fem.Function(Vs)\n",
    "us = fem.Expression(ufl.sqrt(sum([u[i]**2 for i in range(len(u))])), Vs.element.interpolation_points())\n",
    "magnitude.interpolate(us)\n",
    "warped[\"mag\"] = magnitude.x.array"
   ]
  },
  {
   "cell_type": "markdown",
   "metadata": {},
   "source": [
    "Finally, we solve the problem over several time steps, updating the z-component of the traction."
   ]
  },
  {
   "cell_type": "code",
   "execution_count": 24,
   "metadata": {},
   "outputs": [
    {
     "name": "stdout",
     "output_type": "stream",
     "text": [
      "[2025-04-26 09:41:12.538] [info] PETSc Krylov solver starting to solve system.\n",
      "[2025-04-26 09:41:15.618] [info] PETSc Krylov solver starting to solve system.\n",
      "[2025-04-26 09:41:18.125] [info] Newton iteration 2: r (abs) = 22.245488797060162 (tol = 1e-08), r (rel) = 0.13427794209082689 (tol = 1e-08)\n",
      "[2025-04-26 09:41:18.430] [info] PETSc Krylov solver starting to solve system.\n",
      "[2025-04-26 09:41:20.935] [info] Newton iteration 3: r (abs) = 2.4326133716237943 (tol = 1e-08), r (rel) = 0.014683710500775273 (tol = 1e-08)\n",
      "[2025-04-26 09:41:21.245] [info] PETSc Krylov solver starting to solve system.\n",
      "[2025-04-26 09:41:23.760] [info] Newton iteration 4: r (abs) = 4.431578544918353 (tol = 1e-08), r (rel) = 0.02674983915409122 (tol = 1e-08)\n",
      "[2025-04-26 09:41:24.066] [info] PETSc Krylov solver starting to solve system.\n",
      "[2025-04-26 09:41:26.570] [info] Newton iteration 5: r (abs) = 0.14418915603114846 (tol = 1e-08), r (rel) = 0.0008703527856953385 (tol = 1e-08)\n",
      "[2025-04-26 09:41:26.874] [info] PETSc Krylov solver starting to solve system.\n",
      "[2025-04-26 09:41:29.376] [info] Newton iteration 6: r (abs) = 0.021423945168006577 (tol = 1e-08), r (rel) = 0.00012931895068121922 (tol = 1e-08)\n",
      "[2025-04-26 09:41:29.680] [info] PETSc Krylov solver starting to solve system.\n",
      "[2025-04-26 09:41:32.191] [info] Newton iteration 7: r (abs) = 4.800653686037325e-06 (tol = 1e-08), r (rel) = 2.8977645918799686e-08 (tol = 1e-08)\n",
      "Time step 1, Number of iterations 8, Load [ 0.   0.  -1.5]\n",
      "[2025-04-26 09:41:32.497] [info] PETSc Krylov solver starting to solve system.\n",
      "[2025-04-26 09:41:35.005] [info] Newton iteration 8: r (abs) = 2.673494858527105e-11 (tol = 1e-08), r (rel) = 1.613771632839411e-13 (tol = 1e-08)\n",
      "[2025-04-26 09:41:35.005] [info] Newton solver finished in 8 iterations and 8 linear solver iterations.\n",
      "[2025-04-26 09:41:35.485] [info] PETSc Krylov solver starting to solve system.\n",
      "[2025-04-26 09:41:38.294] [info] PETSc Krylov solver starting to solve system.\n",
      "[2025-04-26 09:41:40.802] [info] Newton iteration 2: r (abs) = 17.325417830254818 (tol = 1e-08), r (rel) = 0.11784222260573869 (tol = 1e-08)\n",
      "[2025-04-26 09:41:41.110] [info] PETSc Krylov solver starting to solve system.\n",
      "[2025-04-26 09:41:43.623] [info] Newton iteration 3: r (abs) = 5.148823980265986 (tol = 1e-08), r (rel) = 0.035020734713867845 (tol = 1e-08)\n",
      "[2025-04-26 09:41:43.928] [info] PETSc Krylov solver starting to solve system.\n",
      "[2025-04-26 09:41:46.442] [info] Newton iteration 4: r (abs) = 7.240032601866709 (tol = 1e-08), r (rel) = 0.049244499722950336 (tol = 1e-08)\n",
      "[2025-04-26 09:41:46.745] [info] PETSc Krylov solver starting to solve system.\n",
      "[2025-04-26 09:41:49.254] [info] Newton iteration 5: r (abs) = 0.7778887925663844 (tol = 1e-08), r (rel) = 0.005290962974413237 (tol = 1e-08)\n",
      "[2025-04-26 09:41:49.560] [info] PETSc Krylov solver starting to solve system.\n",
      "[2025-04-26 09:41:52.105] [info] Newton iteration 6: r (abs) = 1.2552532934449965 (tol = 1e-08), r (rel) = 0.008537851120359173 (tol = 1e-08)\n",
      "[2025-04-26 09:41:52.410] [info] PETSc Krylov solver starting to solve system.\n",
      "[2025-04-26 09:41:54.928] [info] Newton iteration 7: r (abs) = 0.008495122597716578 (tol = 1e-08), r (rel) = 5.7781240142733947e-05 (tol = 1e-08)\n",
      "[2025-04-26 09:41:55.231] [info] PETSc Krylov solver starting to solve system.\n",
      "[2025-04-26 09:41:57.732] [info] Newton iteration 8: r (abs) = 0.00019210703501402416 (tol = 1e-08), r (rel) = 1.30665362336708e-06 (tol = 1e-08)\n",
      "Time step 2, Number of iterations 9, Load [ 0.  0. -3.]\n",
      "[2025-04-26 09:41:58.037] [info] PETSc Krylov solver starting to solve system.\n",
      "[2025-04-26 09:42:00.532] [info] Newton iteration 9: r (abs) = 1.703143128989747e-10 (tol = 1e-08), r (rel) = 1.1584261557338281e-12 (tol = 1e-08)\n",
      "[2025-04-26 09:42:00.532] [info] Newton solver finished in 9 iterations and 9 linear solver iterations.\n",
      "[2025-04-26 09:42:00.907] [info] PETSc Krylov solver starting to solve system.\n",
      "[2025-04-26 09:42:03.726] [info] PETSc Krylov solver starting to solve system.\n",
      "[2025-04-26 09:42:06.229] [info] Newton iteration 2: r (abs) = 10.001117231738165 (tol = 1e-08), r (rel) = 0.0887470790059382 (tol = 1e-08)\n",
      "[2025-04-26 09:42:06.532] [info] PETSc Krylov solver starting to solve system.\n",
      "[2025-04-26 09:42:09.047] [info] Newton iteration 3: r (abs) = 5.330258441323416 (tol = 1e-08), r (rel) = 0.04729920228442162 (tol = 1e-08)\n",
      "[2025-04-26 09:42:09.352] [info] PETSc Krylov solver starting to solve system.\n",
      "[2025-04-26 09:42:11.868] [info] Newton iteration 4: r (abs) = 11.990116706452534 (tol = 1e-08), r (rel) = 0.10639689646483898 (tol = 1e-08)\n",
      "[2025-04-26 09:42:12.174] [info] PETSc Krylov solver starting to solve system.\n",
      "[2025-04-26 09:42:14.680] [info] Newton iteration 5: r (abs) = 2.2970192404745142 (tol = 1e-08), r (rel) = 0.020383097536906154 (tol = 1e-08)\n",
      "[2025-04-26 09:42:14.982] [info] PETSc Krylov solver starting to solve system.\n",
      "[2025-04-26 09:42:17.479] [info] Newton iteration 6: r (abs) = 3.902338792396195 (tol = 1e-08), r (rel) = 0.03462824813388704 (tol = 1e-08)\n",
      "[2025-04-26 09:42:17.783] [info] PETSc Krylov solver starting to solve system.\n",
      "[2025-04-26 09:42:20.282] [info] Newton iteration 7: r (abs) = 0.23653543197187016 (tol = 1e-08), r (rel) = 0.0020989483657180333 (tol = 1e-08)\n",
      "[2025-04-26 09:42:20.594] [info] PETSc Krylov solver starting to solve system.\n",
      "[2025-04-26 09:42:23.096] [info] Newton iteration 8: r (abs) = 0.042714208767132535 (tol = 1e-08), r (rel) = 0.0003790337791564939 (tol = 1e-08)\n",
      "[2025-04-26 09:42:23.401] [info] PETSc Krylov solver starting to solve system.\n",
      "[2025-04-26 09:42:25.918] [info] Newton iteration 9: r (abs) = 2.8779779391990918e-05 (tol = 1e-08), r (rel) = 2.553836032807498e-07 (tol = 1e-08)\n",
      "[2025-04-26 09:42:26.222] [info] PETSc Krylov solver starting to solve system.\n",
      "Time step 3, Number of iterations 10, Load [ 0.   0.  -4.5]\n",
      "[2025-04-26 09:42:28.717] [info] Newton iteration 10: r (abs) = 6.091584317411208e-10 (tol = 1e-08), r (rel) = 5.405499227356523e-12 (tol = 1e-08)\n",
      "[2025-04-26 09:42:28.717] [info] Newton solver finished in 10 iterations and 10 linear solver iterations.\n",
      "[2025-04-26 09:42:29.085] [info] PETSc Krylov solver starting to solve system.\n",
      "[2025-04-26 09:42:31.913] [info] PETSc Krylov solver starting to solve system.\n",
      "[2025-04-26 09:42:34.415] [info] Newton iteration 2: r (abs) = 5.5069299335863 (tol = 1e-08), r (rel) = 0.06539183681607792 (tol = 1e-08)\n",
      "[2025-04-26 09:42:34.721] [info] PETSc Krylov solver starting to solve system.\n",
      "[2025-04-26 09:42:37.228] [info] Newton iteration 3: r (abs) = 26.24891960297056 (tol = 1e-08), r (rel) = 0.31169182974477744 (tol = 1e-08)\n",
      "[2025-04-26 09:42:37.532] [info] PETSc Krylov solver starting to solve system.\n",
      "[2025-04-26 09:42:40.031] [info] Newton iteration 4: r (abs) = 2.30927052289516 (tol = 1e-08), r (rel) = 0.027421347832366202 (tol = 1e-08)\n",
      "[2025-04-26 09:42:40.344] [info] PETSc Krylov solver starting to solve system.\n",
      "[2025-04-26 09:42:42.851] [info] Newton iteration 5: r (abs) = 14.056244510017239 (tol = 1e-08), r (rel) = 0.1669103580998983 (tol = 1e-08)\n",
      "[2025-04-26 09:42:43.155] [info] PETSc Krylov solver starting to solve system.\n",
      "[2025-04-26 09:42:45.655] [info] Newton iteration 6: r (abs) = 0.2227741330903128 (tol = 1e-08), r (rel) = 0.0026453232442705216 (tol = 1e-08)\n",
      "[2025-04-26 09:42:45.958] [info] PETSc Krylov solver starting to solve system.\n",
      "[2025-04-26 09:42:48.470] [info] Newton iteration 7: r (abs) = 0.286670524508194 (tol = 1e-08), r (rel) = 0.0034040585924817305 (tol = 1e-08)\n",
      "[2025-04-26 09:42:48.774] [info] PETSc Krylov solver starting to solve system.\n",
      "[2025-04-26 09:42:51.276] [info] Newton iteration 8: r (abs) = 0.00032186938665549854 (tol = 1e-08), r (rel) = 3.822026185570245e-06 (tol = 1e-08)\n",
      "[2025-04-26 09:42:51.584] [info] PETSc Krylov solver starting to solve system.\n",
      "Time step 4, Number of iterations 9, Load [ 0.  0. -6.]\n",
      "[2025-04-26 09:42:54.091] [info] Newton iteration 9: r (abs) = 2.637961353322576e-07 (tol = 1e-08), r (rel) = 3.1324375000945645e-09 (tol = 1e-08)\n",
      "[2025-04-26 09:42:54.091] [info] Newton solver finished in 9 iterations and 9 linear solver iterations.\n",
      "[2025-04-26 09:42:54.460] [info] PETSc Krylov solver starting to solve system.\n",
      "[2025-04-26 09:42:57.267] [info] PETSc Krylov solver starting to solve system.\n",
      "[2025-04-26 09:42:59.779] [info] Newton iteration 2: r (abs) = 3.194619709819117 (tol = 1e-08), r (rel) = 0.049647895163474 (tol = 1e-08)\n",
      "[2025-04-26 09:43:00.086] [info] PETSc Krylov solver starting to solve system.\n",
      "[2025-04-26 09:43:02.593] [info] Newton iteration 3: r (abs) = 7.714285851657124 (tol = 1e-08), r (rel) = 0.11988846561202411 (tol = 1e-08)\n",
      "[2025-04-26 09:43:02.895] [info] PETSc Krylov solver starting to solve system.\n",
      "[2025-04-26 09:43:05.397] [info] Newton iteration 4: r (abs) = 0.8508731232273365 (tol = 1e-08), r (rel) = 0.013223501842665464 (tol = 1e-08)\n",
      "[2025-04-26 09:43:05.703] [info] PETSc Krylov solver starting to solve system.\n",
      "[2025-04-26 09:43:08.210] [info] Newton iteration 5: r (abs) = 0.37143435545378706 (tol = 1e-08), r (rel) = 0.005772497390847909 (tol = 1e-08)\n",
      "[2025-04-26 09:43:08.514] [info] PETSc Krylov solver starting to solve system.\n",
      "[2025-04-26 09:43:11.017] [info] Newton iteration 6: r (abs) = 0.002150656526734587 (tol = 1e-08), r (rel) = 3.3423561948162416e-05 (tol = 1e-08)\n",
      "[2025-04-26 09:43:11.326] [info] PETSc Krylov solver starting to solve system.\n",
      "[2025-04-26 09:43:13.826] [info] Newton iteration 7: r (abs) = 2.5460678314401793e-06 (tol = 1e-08), r (rel) = 3.9568687435911714e-08 (tol = 1e-08)\n",
      "Time step 5, Number of iterations 8, Load [ 0.   0.  -7.5]\n",
      "[2025-04-26 09:43:14.130] [info] PETSc Krylov solver starting to solve system.\n",
      "[2025-04-26 09:43:16.636] [info] Newton iteration 8: r (abs) = 3.88560588274447e-13 (tol = 1e-08), r (rel) = 6.0386578383690685e-15 (tol = 1e-08)\n",
      "[2025-04-26 09:43:16.636] [info] Newton solver finished in 8 iterations and 8 linear solver iterations.\n",
      "[2025-04-26 09:43:17.003] [info] PETSc Krylov solver starting to solve system.\n",
      "[2025-04-26 09:43:19.812] [info] PETSc Krylov solver starting to solve system.\n",
      "[2025-04-26 09:43:22.312] [info] Newton iteration 2: r (abs) = 2.0064882997776836 (tol = 1e-08), r (rel) = 0.03956220311494272 (tol = 1e-08)\n",
      "[2025-04-26 09:43:22.630] [info] PETSc Krylov solver starting to solve system.\n",
      "[2025-04-26 09:43:25.138] [info] Newton iteration 3: r (abs) = 4.609768220397242 (tol = 1e-08), r (rel) = 0.09089142790833635 (tol = 1e-08)\n",
      "[2025-04-26 09:43:25.444] [info] PETSc Krylov solver starting to solve system.\n",
      "[2025-04-26 09:43:27.951] [info] Newton iteration 4: r (abs) = 0.18537214297111018 (tol = 1e-08), r (rel) = 0.0036550077929125378 (tol = 1e-08)\n",
      "[2025-04-26 09:43:28.259] [info] PETSc Krylov solver starting to solve system.\n",
      "[2025-04-26 09:43:30.750] [info] Newton iteration 5: r (abs) = 0.02468800140169812 (tol = 1e-08), r (rel) = 0.0004867766864447652 (tol = 1e-08)\n",
      "[2025-04-26 09:43:31.059] [info] PETSc Krylov solver starting to solve system.\n",
      "[2025-04-26 09:43:33.571] [info] Newton iteration 6: r (abs) = 5.692545947436647e-06 (tol = 1e-08), r (rel) = 1.122407038399305e-07 (tol = 1e-08)\n",
      "[2025-04-26 09:43:33.874] [info] PETSc Krylov solver starting to solve system.\n",
      "Time step 6, Number of iterations 7, Load [ 0.  0. -9.]\n",
      "[2025-04-26 09:43:36.376] [info] Newton iteration 7: r (abs) = 2.5839829540665795e-11 (tol = 1e-08), r (rel) = 5.09487438753859e-13 (tol = 1e-08)\n",
      "[2025-04-26 09:43:36.376] [info] Newton solver finished in 7 iterations and 7 linear solver iterations.\n",
      "[2025-04-26 09:43:36.738] [info] PETSc Krylov solver starting to solve system.\n",
      "[2025-04-26 09:43:39.564] [info] PETSc Krylov solver starting to solve system.\n",
      "[2025-04-26 09:43:42.080] [info] Newton iteration 2: r (abs) = 1.3850621350227403 (tol = 1e-08), r (rel) = 0.03366217572318654 (tol = 1e-08)\n",
      "[2025-04-26 09:43:42.384] [info] PETSc Krylov solver starting to solve system.\n",
      "[2025-04-26 09:43:44.890] [info] Newton iteration 3: r (abs) = 3.0373936061063973 (tol = 1e-08), r (rel) = 0.07381999314244347 (tol = 1e-08)\n",
      "[2025-04-26 09:43:45.194] [info] PETSc Krylov solver starting to solve system.\n",
      "[2025-04-26 09:43:47.711] [info] Newton iteration 4: r (abs) = 0.04123862072023051 (tol = 1e-08), r (rel) = 0.0010022522904674233 (tol = 1e-08)\n",
      "[2025-04-26 09:43:48.024] [info] PETSc Krylov solver starting to solve system.\n",
      "[2025-04-26 09:43:50.558] [info] Newton iteration 5: r (abs) = 0.0020505664354652405 (tol = 1e-08), r (rel) = 4.983641234374362e-05 (tol = 1e-08)\n",
      "[2025-04-26 09:43:50.870] [info] PETSc Krylov solver starting to solve system.\n",
      "Time step 7, Number of iterations 6, Load [  0.    0.  -10.5]\n",
      "[2025-04-26 09:43:53.404] [info] Newton iteration 6: r (abs) = 1.7885932782895477e-08 (tol = 1e-08), r (rel) = 4.3469487547650373e-10 (tol = 1e-08)\n",
      "[2025-04-26 09:43:53.404] [info] Newton solver finished in 6 iterations and 6 linear solver iterations.\n",
      "[2025-04-26 09:43:53.771] [info] PETSc Krylov solver starting to solve system.\n",
      "[2025-04-26 09:43:56.583] [info] PETSc Krylov solver starting to solve system.\n",
      "[2025-04-26 09:43:59.106] [info] Newton iteration 2: r (abs) = 1.063364854284863 (tol = 1e-08), r (rel) = 0.03108500207071687 (tol = 1e-08)\n",
      "[2025-04-26 09:43:59.413] [info] PETSc Krylov solver starting to solve system.\n",
      "[2025-04-26 09:44:01.922] [info] Newton iteration 3: r (abs) = 2.047703134592055 (tol = 1e-08), r (rel) = 0.059859845774022175 (tol = 1e-08)\n",
      "[2025-04-26 09:44:02.227] [info] PETSc Krylov solver starting to solve system.\n",
      "[2025-04-26 09:44:04.729] [info] Newton iteration 4: r (abs) = 0.008977191927198678 (tol = 1e-08), r (rel) = 0.00026242735832553464 (tol = 1e-08)\n",
      "[2025-04-26 09:44:05.035] [info] PETSc Krylov solver starting to solve system.\n",
      "[2025-04-26 09:44:07.542] [info] Newton iteration 5: r (abs) = 0.00016742177118289178 (tol = 1e-08), r (rel) = 4.894186678196442e-06 (tol = 1e-08)\n",
      "[2025-04-26 09:44:07.846] [info] PETSc Krylov solver starting to solve system.\n",
      "Time step 8, Number of iterations 6, Load [  0.   0. -12.]\n",
      "[2025-04-26 09:44:10.352] [info] Newton iteration 6: r (abs) = 3.212499844441388e-11 (tol = 1e-08), r (rel) = 9.39099725877217e-13 (tol = 1e-08)\n",
      "[2025-04-26 09:44:10.352] [info] Newton solver finished in 6 iterations and 6 linear solver iterations.\n",
      "[2025-04-26 09:44:10.713] [info] PETSc Krylov solver starting to solve system.\n",
      "[2025-04-26 09:44:13.518] [info] PETSc Krylov solver starting to solve system.\n",
      "[2025-04-26 09:44:16.016] [info] Newton iteration 2: r (abs) = 0.8987886137101838 (tol = 1e-08), r (rel) = 0.03096655569140112 (tol = 1e-08)\n",
      "[2025-04-26 09:44:16.322] [info] PETSc Krylov solver starting to solve system.\n",
      "[2025-04-26 09:44:18.828] [info] Newton iteration 3: r (abs) = 1.3835366481633917 (tol = 1e-08), r (rel) = 0.04766789878388584 (tol = 1e-08)\n",
      "[2025-04-26 09:44:19.131] [info] PETSc Krylov solver starting to solve system.\n",
      "[2025-04-26 09:44:21.636] [info] Newton iteration 4: r (abs) = 0.0018509602553062445 (tol = 1e-08), r (rel) = 6.377235197929768e-05 (tol = 1e-08)\n",
      "[2025-04-26 09:44:21.941] [info] PETSc Krylov solver starting to solve system.\n",
      "[2025-04-26 09:44:24.446] [info] Newton iteration 5: r (abs) = 7.871825466072281e-06 (tol = 1e-08), r (rel) = 2.712131840231777e-07 (tol = 1e-08)\n",
      "[2025-04-26 09:44:24.751] [info] PETSc Krylov solver starting to solve system.\n",
      "Time step 9, Number of iterations 6, Load [  0.    0.  -13.5]\n",
      "[2025-04-26 09:44:27.252] [info] Newton iteration 6: r (abs) = 2.5059338063786527e-13 (tol = 1e-08), r (rel) = 8.633858683840832e-15 (tol = 1e-08)\n",
      "[2025-04-26 09:44:27.252] [info] Newton solver finished in 6 iterations and 6 linear solver iterations.\n"
     ]
    }
   ],
   "source": [
    "log.set_log_level(log.LogLevel.INFO)\n",
    "tval0 = -1.5\n",
    "for n in range(1, 10):\n",
    "    T.value[2] = n * tval0\n",
    "    num_its, converged = solver.solve(u)\n",
    "    assert (converged)\n",
    "    u.x.scatter_forward()\n",
    "    print(f\"Time step {n}, Number of iterations {num_its}, Load {T.value}\")\n",
    "    function_grid[\"u\"][:, :len(u)] = u.x.array.reshape(geometry.shape[0], len(u))\n",
    "    magnitude.interpolate(us)\n",
    "    warped.set_active_scalars(\"mag\")\n",
    "    warped_n = function_grid.warp_by_vector(factor=1)\n",
    "    warped.points[:, :] = warped_n.points\n",
    "    warped.point_data[\"mag\"][:] = magnitude.x.array\n",
    "    plotter.update_scalar_bar_range([0, 10])\n",
    "    plotter.write_frame()\n",
    "plotter.close()"
   ]
  },
  {
   "cell_type": "markdown",
   "metadata": {},
   "source": [
    "<img src=\"b-deformation.png\" alt=\"Beam Deformation\" width=\"500\"/>"
   ]
  }
 ],
 "metadata": {
  "kernelspec": {
   "display_name": "me700",
   "language": "python",
   "name": "python3"
  },
  "language_info": {
   "codemirror_mode": {
    "name": "ipython",
    "version": 3
   },
   "file_extension": ".py",
   "mimetype": "text/x-python",
   "name": "python",
   "nbconvert_exporter": "python",
   "pygments_lexer": "ipython3",
   "version": "3.13.3"
  }
 },
 "nbformat": 4,
 "nbformat_minor": 2
}
